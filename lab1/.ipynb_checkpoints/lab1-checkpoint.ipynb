{
 "cells": [
  {
   "cell_type": "markdown",
   "metadata": {},
   "source": [
    "# Kratki uvod u Pandas\n",
    "\n",
    "Pandas je Python biblioteka funkcija za manipulaciju i obradu podataka koju odlikuje velika fleksibilnost ali i brzina. Pandas je pisan u Pythonu no kritički dijelovi su pisani u Cythonu i C-u kako bi se postigla velika brzina. U sklopu ovog poglavlja bit će opisane dvije bitne strukture podataka s kojima Pandas raspolaže, Series and DataFrame. Za početak potrebno je učitati `pandas`, a često je potrebno učitati i `numpy`.\n",
    "\n",
    "dodatni resursi:\n",
    "- [Šalabahter za Pandas](https://pandas.pydata.org/Pandas_Cheat_Sheet.pdf)\n",
    "- [10-minutni uvod](https://pandas.pydata.org/docs/user_guide/10min.html#min)\n",
    "- [Pandas službeni vodić](https://pandas.pydata.org/docs/user_guide/index.html)"
   ]
  },
  {
   "cell_type": "code",
   "execution_count": null,
   "metadata": {},
   "outputs": [],
   "source": [
    "import pandas as pd\n",
    "import numpy as np"
   ]
  },
  {
   "cell_type": "markdown",
   "metadata": {},
   "source": [
    "## Series \n",
    "\n",
    "Series is a one-dimensional labeled array capable of holding any data type (integers, strings, floating point numbers, Python objects, etc.). The axis labels are collectively referred to as the index. The basic method to create a Series is to call:\n",
    "\n",
    "Series objekt je jednodimenzionalni označeni niz koji može spremiti bilo koji tip podataka (cijele brojeve, nizove znakova, brojeve s pomičnom točkom, Python objekte, itd.) Osi oznaka kolektivno se nazivaju indeksom serije. Osnovna metoda za stvaranje Series objekta je\n",
    "\n",
    "```py\n",
    ">>> s = pd.Series(data, index=index)\n",
    "```\n",
    "\n",
    "Ovdje `data` može biti mnogo različitih stvari\n",
    "- Python `dict`\n",
    "- `ndarray`\n",
    "- skalar\n",
    "\n",
    "`index` je ovdje lista naziva osi. Stvaranje liste možemo dakle podijeliti ovisno o tipu podataka. \n",
    "\n",
    "Series objekt se ponaša slično kao numpy `ndarray`, tj. moguće je nad njim provoditi većinu NumPy funkcija i vektorskih operacija (zbrajanje, vektorsko množenje, sumiranje...), no više o tome u budućim laboratorijskim vježbama. Osim toga Series objekt je sličan i Python `dict` objektu tj moguće je jednostavno dohvatiti vrijednost na indeksu s npr:\n",
    "\n",
    "`s[\"a\"]` ili `s.get(\"f\", np.nan)`"
   ]
  },
  {
   "cell_type": "markdown",
   "metadata": {},
   "source": [
    "### 1. Stvaraje s `ndarray` objektom"
   ]
  },
  {
   "cell_type": "code",
   "execution_count": null,
   "metadata": {},
   "outputs": [],
   "source": [
    "# with implicit index\n",
    "pd.Series(np.random.randn(5))"
   ]
  },
  {
   "cell_type": "code",
   "execution_count": null,
   "metadata": {},
   "outputs": [],
   "source": [
    "# with explicit index (same length as data)\n",
    "pd.Series(np.random.randn(5), index=[\"a\", \"b\", \"c\", \"d\", \"e\"])"
   ]
  },
  {
   "cell_type": "markdown",
   "metadata": {},
   "source": [
    "### 2. Stvaranje s `dict` objektom"
   ]
  },
  {
   "cell_type": "code",
   "execution_count": null,
   "metadata": {},
   "outputs": [],
   "source": [
    "d = {\"b\": 1, \"a\": 0, \"c\": 2}\n",
    "pd.Series(d)"
   ]
  },
  {
   "cell_type": "code",
   "execution_count": null,
   "metadata": {},
   "outputs": [],
   "source": [
    "d = {\"a\": 0.0, \"b\": 1.0, \"c\": 2.0}\n",
    "pd.Series(d, index=[\"b\", \"c\", \"d\", \"a\"])\n"
   ]
  },
  {
   "cell_type": "markdown",
   "metadata": {},
   "source": [
    "### 3. Stvaranje sa skalarom\n",
    "\n",
    "u ovom slučaju argument `index` je nužan te se vrijednost ponavlja do duljine argumenta `index`"
   ]
  },
  {
   "cell_type": "code",
   "execution_count": null,
   "metadata": {},
   "outputs": [],
   "source": [
    "pd.Series(5.0, index=[\"a\", \"b\", \"c\", \"d\", \"e\"])"
   ]
  },
  {
   "cell_type": "markdown",
   "metadata": {},
   "source": [
    "## DataFrame\n",
    "\n",
    "`DataFrame` je dvodimenzijska označena struktura podatak sa stupcima koji mogu međusobno razlikovati po tipu podataka. Može se na `DataFrame` gledati kao na proračunsku tablicu ili na `dict` koji kao vrijednosti sadrži `Series` objekte. `DataFrame je najčešće korišten pandas objekt te ga se može stvarati pomoću raznih:\n",
    "- `dict` jednodimenzionalnih `ndarray`, `dict` ili `Series` objekata\n",
    "- 2D `ndarray`\n",
    "- Strukturirani `ndarray`\n",
    "- `Series` objekt\n",
    "- drugi `DataFrame`\n",
    "\n",
    "Uz `data` agument, dodatno se može poslati `index` (oznake redova) ili `columns` (oznake stupaca)"
   ]
  },
  {
   "cell_type": "code",
   "execution_count": null,
   "metadata": {},
   "outputs": [],
   "source": [
    "d = {\n",
    "    \"one\": pd.Series([1.0, 2.0, 3.0], index=[\"a\", \"b\", \"c\"]),\n",
    "    \"two\": pd.Series([1.0, 2.0, 3.0, 4.0], index=[\"a\", \"b\", \"c\", \"d\"]),\n",
    "}\n",
    "\n",
    "pd.DataFrame(d)"
   ]
  },
  {
   "cell_type": "code",
   "execution_count": null,
   "metadata": {},
   "outputs": [],
   "source": [
    "pd.DataFrame(d, index=[\"d\", \"b\", \"a\"])"
   ]
  },
  {
   "cell_type": "code",
   "execution_count": null,
   "metadata": {},
   "outputs": [],
   "source": [
    "pd.DataFrame(d, index=[\"d\", \"b\", \"a\"], columns=[\"two\", \"three\"])"
   ]
  },
  {
   "cell_type": "code",
   "execution_count": null,
   "metadata": {},
   "outputs": [],
   "source": [
    "pd.DataFrame({\n",
    "    \"one\": [1.0, 2.0, 3.0, 4.0], \n",
    "    \"two\": [4.0, 3.0, 2.0, 1.0]\n",
    "})\n"
   ]
  },
  {
   "cell_type": "code",
   "execution_count": null,
   "metadata": {},
   "outputs": [],
   "source": [
    "pd.DataFrame([\n",
    "    {\"a\": 1, \"b\": 2}, \n",
    "    {\"a\": 5, \"b\": 10, \"c\": 20}\n",
    "])"
   ]
  },
  {
   "cell_type": "code",
   "execution_count": null,
   "metadata": {},
   "outputs": [],
   "source": [
    "pd.DataFrame([\n",
    "    [1, 2, 3],\n",
    "    [4, 5, 6],\n",
    "    [7, 8, 9]],\n",
    "    index=['a', 'b', 'c'], \n",
    "    columns=[\"first\", \"second\", \"third\"]\n",
    ")"
   ]
  },
  {
   "cell_type": "markdown",
   "metadata": {},
   "source": [
    "# Izvori podataka\n",
    "\n",
    "Pandas može raditi s puno izvora podataka dokle god se podatci mogu zapisati pomoću dva tipa objekta navedena u prošlom poglavlju , u ovoj vježbi fokus će biti na podatcima zapisanim u proračunskoj tablici, .csv datoteci i bazi podataka (sqlite3). U direktoriju `data` nalaze se tri datoteke za svaki od spomenutih izvora. U datoteci `db.sqlite` se nalazi tablica naziva studenti, dok .csv i .xlsx datoteke sadrže samo jednu tablicu. Sve tablice sadrže iste podatke. \n",
    "\n",
    "Učitavanje podataka s Pandas bibliotekom je često vrlo jednostavno kada su podatci u ispravnom obliku, to će biti i pokazano u nastavku vježbe za spomenuta tri izvora. Za više informacija o `pandas` funkcijama za čitanje i pohranu podataka i rad s drugim formatima pogledajte https://pandas.pydata.org/pandas-docs/stable/user_guide/io.html. "
   ]
  },
  {
   "cell_type": "markdown",
   "metadata": {},
   "source": [
    "## CSV\n",
    "CSV (Comma Separated Values) datoteka je tekstualna datoteka u kojoj se zarez koristi za odvajanje vrijednosti. Svaki red u datoteci predstavlja novi zapis. Zapis se sastoji od više polja koja su odvojena zarezom. Prvi redak često se koristi za zadavanje naziva polja koji su također odvojeni zarezom. CSV datoteka jednostavan je način zapisivanja strukturiranih podataka te se zato često koristi i u praksi.\n",
    "\n",
    "U ovoj laboratorijskoj vježbi koristi se primjerna datoteka `data/students.csv` koja se pomoću `pandas` biblioteke učitava koristeči `read_csv` funkciju. Dodatne opcije te funkcije mogu dostupne su na https://pandas.pydata.org/pandas-docs/stable/reference/api/pandas.read_csv.html. "
   ]
  },
  {
   "cell_type": "code",
   "execution_count": null,
   "metadata": {},
   "outputs": [],
   "source": [
    "pd.read_csv(\"data/students.csv\")"
   ]
  },
  {
   "cell_type": "markdown",
   "metadata": {},
   "source": [
    "## Proračunske tablice\n",
    "\n",
    "Proračunske tablice su često korištene za rad s tabličnim podatcima te pružaju mnogo korisnih usluga korisnih podatkovnim znanstvenicima, no ponekad je potrebno obraditi podatke koji se nalaze u takvim tablicama pomoću programskog jezika Python. U tom slučaju te tablice jednostavno je učitati koristeći `pandas` funkciju `read_excel()`.\n",
    "\n",
    "Za potrebe ove laboratorijske vježbe koristi se datoteka `data/students.xlsx` iz koje se učitava `\n",
    "\n",
    "Dodatne informacije o funkciji `read_excel()` i njenim opcijama dostupne su na https://pandas.pydata.org/pandas-docs/stable/reference/api/pandas.read_excel.html?highlight=read_excel."
   ]
  },
  {
   "cell_type": "code",
   "execution_count": null,
   "metadata": {},
   "outputs": [],
   "source": [
    "pd.read_excel(\"data/data.xlsx\", sheet_name=\"students\")"
   ]
  },
  {
   "cell_type": "markdown",
   "metadata": {},
   "source": [
    "## SQL\n",
    "\n",
    "Baze podataka se često koriste za spremanje podataka i njihovu osnovnu analizu, no ponekad su potrebne naprednije metode, pogotovo u polju znanosti o podatcima. Iz tog razloga je standardno učitati podatke u `DataFrame` te raditi analizu koristeći funkcionalnost biblioteke `pandas`. \n",
    "\n",
    "Kako bi se dohvatili podatci iz baze prvo je potrebno napraviti konekciju prema bazi podataka. Radi veće generalnosti `pandas` to prepušta korisniku. To je moguće izvesti pomoću biblioteke `sqlite3` za SQLite baze podataka ili pomoću [`SQLAlchemy` biblioteke](https://www.sqlalchemy.org) za ostale baze podataka. Danas će se radi jednostavnosti napraviti pregled koristeći `sqlite3`.\n",
    "\n",
    "Dodatne informacije o funkcijama `read_sql()`, `read_sql_query` i `read_sql_table` te njihovim opcijama dostupne mogu se naći [ovdje](https://pandas.pydata.org/pandas-docs/stable/reference/api/pandas.read_sql.html), [ovdje](https://pandas.pydata.org/pandas-docs/stable/reference/api/pandas.read_sql_query.html) i [ovdje](https://pandas.pydata.org/pandas-docs/stable/reference/api/pandas.read_sql_table.html) respektivno. "
   ]
  },
  {
   "cell_type": "code",
   "execution_count": null,
   "metadata": {},
   "outputs": [],
   "source": [
    "import sqlite3\n",
    "\n",
    "conn = sqlite3.connect(\"data/data.sqlite\")\n",
    "query = \"select * from students\"\n",
    "\n",
    "students = pd.read_sql_query(query, conn)\n",
    "students"
   ]
  },
  {
   "cell_type": "markdown",
   "metadata": {},
   "source": [
    "# Usporedba Pandas biblioteke sa SQL-om"
   ]
  },
  {
   "cell_type": "markdown",
   "metadata": {},
   "source": [
    "## SELECT"
   ]
  },
  {
   "cell_type": "markdown",
   "metadata": {},
   "source": [
    "### primjer 1\n",
    "\n",
    "```sql\n",
    "SELECT JMBAG, grade\n",
    "FROM students \n",
    "```"
   ]
  },
  {
   "cell_type": "code",
   "execution_count": null,
   "metadata": {},
   "outputs": [],
   "source": [
    "students[['JMBAG', 'grade']]"
   ]
  },
  {
   "cell_type": "markdown",
   "metadata": {},
   "source": [
    "## WHERE"
   ]
  },
  {
   "cell_type": "markdown",
   "metadata": {},
   "source": [
    "### primjer 1 - logičko indeksiranje\n",
    "\n",
    "```sql\n",
    "SELECT *\n",
    "FROM students\n",
    "where grade > 3;\n",
    "```"
   ]
  },
  {
   "cell_type": "code",
   "execution_count": null,
   "metadata": {},
   "outputs": [],
   "source": [
    "students[students.grade > 3]"
   ]
  },
  {
   "cell_type": "code",
   "execution_count": null,
   "metadata": {},
   "outputs": [],
   "source": [
    "students.grade > 3\n",
    "# students['grade'] > 3 "
   ]
  },
  {
   "cell_type": "markdown",
   "metadata": {},
   "source": [
    "### primjer 2\n",
    "\n",
    "```sql\n",
    "SELECT JMBAG\n",
    "FROM students\n",
    "WHERE grade == 5 AND repeating = FALSE\n",
    "```"
   ]
  },
  {
   "cell_type": "code",
   "execution_count": null,
   "metadata": {},
   "outputs": [],
   "source": [
    "students[\n",
    "    (students.grade == 5) & \n",
    "    (students.repeating == False)\n",
    "]['JMBAG']"
   ]
  },
  {
   "cell_type": "markdown",
   "metadata": {},
   "source": [
    "## GROUP BY"
   ]
  },
  {
   "cell_type": "markdown",
   "metadata": {},
   "source": [
    "### primjer 1\n",
    "\n",
    "```sql\n",
    "SELECT grade, count(*)\n",
    "FROM students\n",
    "GROUP BY grade\n",
    "```"
   ]
  },
  {
   "cell_type": "code",
   "execution_count": null,
   "metadata": {},
   "outputs": [],
   "source": [
    "students.groupby('grade').size()"
   ]
  },
  {
   "cell_type": "markdown",
   "metadata": {},
   "source": [
    "### primjer 2\n",
    "\n",
    "```sql\n",
    "SELECT repeating, avg(grade), count(*)\n",
    "FROM students\n",
    "GROUP BY repeating\n",
    "```"
   ]
  },
  {
   "cell_type": "code",
   "execution_count": null,
   "metadata": {},
   "outputs": [],
   "source": [
    "students.groupby('repeating').agg({\n",
    "    'grade': np.mean,\n",
    "    'repeating': np.size\n",
    "})"
   ]
  },
  {
   "cell_type": "markdown",
   "metadata": {},
   "source": [
    "## UPDATE\n",
    "\n",
    "```sql\n",
    "UPDATE students\n",
    "SET grade = 5\n",
    "WHERE grade = 4\n",
    "```"
   ]
  },
  {
   "cell_type": "code",
   "execution_count": null,
   "metadata": {},
   "outputs": [],
   "source": [
    "students.loc[students.grade == 4, 'grade'] = '4+'\n",
    "\n",
    "students"
   ]
  },
  {
   "cell_type": "code",
   "execution_count": null,
   "metadata": {},
   "outputs": [],
   "source": [
    "students.loc[students.grade == 3, ('JMBAG', 'grade')]\n",
    "# students.loc[[2,4,6], ('JMBAG', 'grade')]\n"
   ]
  },
  {
   "cell_type": "markdown",
   "metadata": {},
   "source": [
    "## DELETE"
   ]
  },
  {
   "cell_type": "markdown",
   "metadata": {},
   "source": [
    "### primjer 1\n",
    "\n",
    "```sql\n",
    "DELETE FROM students\n",
    "WHERE repeating == 1"
   ]
  },
  {
   "cell_type": "code",
   "execution_count": null,
   "metadata": {},
   "outputs": [],
   "source": [
    "firsttimers = students.loc[students.repeating == 1]\n",
    "\n",
    "firsttimers"
   ]
  },
  {
   "cell_type": "markdown",
   "metadata": {},
   "source": [
    "## Pohrana DataFrame objekata\n",
    "\n",
    "DataFrame objekte je vrlo jednostavno pohraniti koristeći `to_<format>()` funkcije. Njih je također moguće pregledati na https://pandas.pydata.org/pandas-docs/stable/user_guide/io.html. Ovdje je dan primjer spremanja tablice u tekstualnu `JSON` datoteku i binarnu `pickle` datoteku. "
   ]
  },
  {
   "cell_type": "code",
   "execution_count": null,
   "metadata": {},
   "outputs": [],
   "source": [
    "filename = \"fisttimers.json\"\n",
    "\n",
    "# save file\n",
    "firsttimers.to_json(filename)\n",
    "\n",
    "# read file\n",
    "print(pd.read_json(filename))\n"
   ]
  },
  {
   "cell_type": "code",
   "execution_count": null,
   "metadata": {},
   "outputs": [],
   "source": [
    "filename = \"fisttimers.pkl\"\n",
    "\n",
    "# save file\n",
    "firsttimers.to_pickle(filename)\n",
    "\n",
    "# read file\n",
    "print(pd.read_pickle(filename))\n"
   ]
  },
  {
   "cell_type": "markdown",
   "metadata": {},
   "source": [
    "## REST data\n",
    "\n",
    "REST (Representational state transfer) je programska arhitektura koja pruža smjernice za dizajn web aplikacijskih sučelja koja je široko prihvaćena. Zato je često podatke moguće dohvatiti u obliku HTML, XML ili JSON dokumenata. \n",
    "\n",
    "U ovoj laboratorijskoj vježbe prikazan je jednostavan primjer dohvaćanja odgovora na zahtjev s [Reqres](reqres.in) stranice pomoću Python `requests` biblioteke funkcija. "
   ]
  },
  {
   "cell_type": "code",
   "execution_count": null,
   "metadata": {},
   "outputs": [],
   "source": [
    "import requests\n",
    "import pprint\n",
    "\n",
    "response = requests.get(url=\"https://reqres.in/api/users\", params={'page': 2})\n",
    "\n",
    "print(response)\n",
    "pprint.pprint(response.json())"
   ]
  },
  {
   "cell_type": "code",
   "execution_count": null,
   "metadata": {},
   "outputs": [],
   "source": [
    "users = response.json()\n",
    "\n",
    "users['data'][0]['first_name']"
   ]
  }
 ],
 "metadata": {
  "interpreter": {
   "hash": "4b956fd396f998951925e58ed0d910d0a57d390aeffe95eb1ef29f2e9f89ad60"
  },
  "kernelspec": {
   "display_name": "Python 3 (ipykernel)",
   "language": "python",
   "name": "python3"
  },
  "language_info": {
   "codemirror_mode": {
    "name": "ipython",
    "version": 3
   },
   "file_extension": ".py",
   "mimetype": "text/x-python",
   "name": "python",
   "nbconvert_exporter": "python",
   "pygments_lexer": "ipython3",
   "version": "3.9.7"
  }
 },
 "nbformat": 4,
 "nbformat_minor": 2
}
