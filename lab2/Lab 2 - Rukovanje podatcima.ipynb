{
 "cells": [
  {
   "cell_type": "markdown",
   "id": "fd0181d0",
   "metadata": {},
   "source": [
    "# Rukovanje podatcima"
   ]
  },
  {
   "cell_type": "markdown",
   "id": "5cbed1ea",
   "metadata": {},
   "source": [
    "Na laboratorijskoj vježbi pokazat ćemo neke od osnovnih manipulacija podataka koje se često koriste u praksi. U tu svrhu koristit ćemo skup podataka Titanic jer je prikladan za demonstraciju mnogih transformacija podataka. Koristit ćemo algoritam slučajnih šuma za klasifikaciju podataka kako bismo mogli pratiti kakav utjecaj određene manipulacije podataka imaju na klasifikacijski model.  "
   ]
  },
  {
   "cell_type": "code",
   "execution_count": 970,
   "id": "8ff6b692",
   "metadata": {},
   "outputs": [],
   "source": [
    "import numpy as np\n",
    "import pandas as pd\n",
    "from sklearn.ensemble import RandomForestClassifier, ExtraTreesClassifier\n",
    "from sklearn.metrics import accuracy_score, confusion_matrix\n",
    "from sklearn.model_selection import train_test_split\n",
    "from sklearn.preprocessing import OneHotEncoder, LabelEncoder\n",
    "from sklearn.model_selection import cross_val_score\n",
    "from sklearn.feature_selection import SelectKBest, mutual_info_classif"
   ]
  },
  {
   "cell_type": "code",
   "execution_count": 923,
   "id": "457b2348",
   "metadata": {},
   "outputs": [],
   "source": [
    "# Budite jako oprezni s korištenjem ove postavke! Ne preporuča se početnicima!\n",
    "import warnings\n",
    "warnings.filterwarnings('ignore')"
   ]
  },
  {
   "cell_type": "markdown",
   "id": "3f59a392",
   "metadata": {},
   "source": [
    "### Učitavanje podataka"
   ]
  },
  {
   "cell_type": "code",
   "execution_count": 924,
   "id": "53b3fc0b",
   "metadata": {
    "scrolled": true
   },
   "outputs": [],
   "source": [
    "# ucitavanje podataka\n",
    "X = pd.read_csv(\"titanic.csv\")"
   ]
  },
  {
   "cell_type": "markdown",
   "id": "e640d4fc",
   "metadata": {},
   "source": [
    "### Početni pregled podataka"
   ]
  },
  {
   "cell_type": "code",
   "execution_count": 925,
   "id": "70e5bae8",
   "metadata": {},
   "outputs": [
    {
     "data": {
      "text/plain": [
       "(891, 12)"
      ]
     },
     "execution_count": 925,
     "metadata": {},
     "output_type": "execute_result"
    }
   ],
   "source": [
    "X.shape"
   ]
  },
  {
   "cell_type": "code",
   "execution_count": 926,
   "id": "2bcb35cf",
   "metadata": {
    "scrolled": false
   },
   "outputs": [
    {
     "data": {
      "text/html": [
       "<div>\n",
       "<style scoped>\n",
       "    .dataframe tbody tr th:only-of-type {\n",
       "        vertical-align: middle;\n",
       "    }\n",
       "\n",
       "    .dataframe tbody tr th {\n",
       "        vertical-align: top;\n",
       "    }\n",
       "\n",
       "    .dataframe thead th {\n",
       "        text-align: right;\n",
       "    }\n",
       "</style>\n",
       "<table border=\"1\" class=\"dataframe\">\n",
       "  <thead>\n",
       "    <tr style=\"text-align: right;\">\n",
       "      <th></th>\n",
       "      <th>PassengerId</th>\n",
       "      <th>Survived</th>\n",
       "      <th>Pclass</th>\n",
       "      <th>Name</th>\n",
       "      <th>Sex</th>\n",
       "      <th>Age</th>\n",
       "      <th>SibSp</th>\n",
       "      <th>Parch</th>\n",
       "      <th>Ticket</th>\n",
       "      <th>Fare</th>\n",
       "      <th>Cabin</th>\n",
       "      <th>Embarked</th>\n",
       "    </tr>\n",
       "  </thead>\n",
       "  <tbody>\n",
       "    <tr>\n",
       "      <th>0</th>\n",
       "      <td>1</td>\n",
       "      <td>0</td>\n",
       "      <td>3</td>\n",
       "      <td>Braund, Mr. Owen Harris</td>\n",
       "      <td>male</td>\n",
       "      <td>22.0</td>\n",
       "      <td>1</td>\n",
       "      <td>0</td>\n",
       "      <td>A/5 21171</td>\n",
       "      <td>7.2500</td>\n",
       "      <td>NaN</td>\n",
       "      <td>S</td>\n",
       "    </tr>\n",
       "    <tr>\n",
       "      <th>1</th>\n",
       "      <td>2</td>\n",
       "      <td>1</td>\n",
       "      <td>1</td>\n",
       "      <td>Cumings, Mrs. John Bradley (Florence Briggs Th...</td>\n",
       "      <td>female</td>\n",
       "      <td>38.0</td>\n",
       "      <td>1</td>\n",
       "      <td>0</td>\n",
       "      <td>PC 17599</td>\n",
       "      <td>71.2833</td>\n",
       "      <td>C85</td>\n",
       "      <td>C</td>\n",
       "    </tr>\n",
       "    <tr>\n",
       "      <th>2</th>\n",
       "      <td>3</td>\n",
       "      <td>1</td>\n",
       "      <td>3</td>\n",
       "      <td>Heikkinen, Miss. Laina</td>\n",
       "      <td>female</td>\n",
       "      <td>26.0</td>\n",
       "      <td>0</td>\n",
       "      <td>0</td>\n",
       "      <td>STON/O2. 3101282</td>\n",
       "      <td>7.9250</td>\n",
       "      <td>NaN</td>\n",
       "      <td>S</td>\n",
       "    </tr>\n",
       "    <tr>\n",
       "      <th>3</th>\n",
       "      <td>4</td>\n",
       "      <td>1</td>\n",
       "      <td>1</td>\n",
       "      <td>Futrelle, Mrs. Jacques Heath (Lily May Peel)</td>\n",
       "      <td>female</td>\n",
       "      <td>35.0</td>\n",
       "      <td>1</td>\n",
       "      <td>0</td>\n",
       "      <td>113803</td>\n",
       "      <td>53.1000</td>\n",
       "      <td>C123</td>\n",
       "      <td>S</td>\n",
       "    </tr>\n",
       "    <tr>\n",
       "      <th>4</th>\n",
       "      <td>5</td>\n",
       "      <td>0</td>\n",
       "      <td>3</td>\n",
       "      <td>Allen, Mr. William Henry</td>\n",
       "      <td>male</td>\n",
       "      <td>35.0</td>\n",
       "      <td>0</td>\n",
       "      <td>0</td>\n",
       "      <td>373450</td>\n",
       "      <td>8.0500</td>\n",
       "      <td>NaN</td>\n",
       "      <td>S</td>\n",
       "    </tr>\n",
       "  </tbody>\n",
       "</table>\n",
       "</div>"
      ],
      "text/plain": [
       "   PassengerId  Survived  Pclass  \\\n",
       "0            1         0       3   \n",
       "1            2         1       1   \n",
       "2            3         1       3   \n",
       "3            4         1       1   \n",
       "4            5         0       3   \n",
       "\n",
       "                                                Name     Sex   Age  SibSp  \\\n",
       "0                            Braund, Mr. Owen Harris    male  22.0      1   \n",
       "1  Cumings, Mrs. John Bradley (Florence Briggs Th...  female  38.0      1   \n",
       "2                             Heikkinen, Miss. Laina  female  26.0      0   \n",
       "3       Futrelle, Mrs. Jacques Heath (Lily May Peel)  female  35.0      1   \n",
       "4                           Allen, Mr. William Henry    male  35.0      0   \n",
       "\n",
       "   Parch            Ticket     Fare Cabin Embarked  \n",
       "0      0         A/5 21171   7.2500   NaN        S  \n",
       "1      0          PC 17599  71.2833   C85        C  \n",
       "2      0  STON/O2. 3101282   7.9250   NaN        S  \n",
       "3      0            113803  53.1000  C123        S  \n",
       "4      0            373450   8.0500   NaN        S  "
      ]
     },
     "execution_count": 926,
     "metadata": {},
     "output_type": "execute_result"
    }
   ],
   "source": [
    "# prikaz skupa za treniranje\n",
    "X.head()"
   ]
  },
  {
   "cell_type": "code",
   "execution_count": 927,
   "id": "779e506e",
   "metadata": {
    "scrolled": true
   },
   "outputs": [
    {
     "data": {
      "text/plain": [
       "array(['PassengerId', 'Survived', 'Pclass', 'Name', 'Sex', 'Age', 'SibSp',\n",
       "       'Parch', 'Ticket', 'Fare', 'Cabin', 'Embarked'], dtype=object)"
      ]
     },
     "execution_count": 927,
     "metadata": {},
     "output_type": "execute_result"
    }
   ],
   "source": [
    "X.columns.values"
   ]
  },
  {
   "cell_type": "markdown",
   "id": "ab4b9361",
   "metadata": {},
   "source": [
    "Pojašnjenja značajki:\n",
    " - Survived - ciljani razred - oznaka je li osoba preživjela ili ne\n",
    " - Pclass - razred karte (1., 2. ili 3.)\n",
    " - Name - Ime putnika\n",
    " - Sex - spol putnika\n",
    " - Age - starost putnika u godinama\n",
    " - SibSp - broj braće, sestara i/ili supružnika ukrcanih na Titanik\n",
    " - Parch - broj roditelja/djece ukrcanih na Titanik\n",
    " - Ticket - broj karte\n",
    " - Fare - putnička karta\n",
    " - Cabin - oznaka kabine\n",
    " - Embarked - luka ukrcavanja (C = Cherbourg, Q = Queenstown, S = Southampton)"
   ]
  },
  {
   "cell_type": "code",
   "execution_count": 928,
   "id": "5ba554ed",
   "metadata": {
    "scrolled": true
   },
   "outputs": [
    {
     "data": {
      "text/html": [
       "<div>\n",
       "<style scoped>\n",
       "    .dataframe tbody tr th:only-of-type {\n",
       "        vertical-align: middle;\n",
       "    }\n",
       "\n",
       "    .dataframe tbody tr th {\n",
       "        vertical-align: top;\n",
       "    }\n",
       "\n",
       "    .dataframe thead th {\n",
       "        text-align: right;\n",
       "    }\n",
       "</style>\n",
       "<table border=\"1\" class=\"dataframe\">\n",
       "  <thead>\n",
       "    <tr style=\"text-align: right;\">\n",
       "      <th></th>\n",
       "      <th>PassengerId</th>\n",
       "      <th>Survived</th>\n",
       "      <th>Pclass</th>\n",
       "      <th>Age</th>\n",
       "      <th>SibSp</th>\n",
       "      <th>Parch</th>\n",
       "      <th>Fare</th>\n",
       "    </tr>\n",
       "  </thead>\n",
       "  <tbody>\n",
       "    <tr>\n",
       "      <th>count</th>\n",
       "      <td>891.000000</td>\n",
       "      <td>891.000000</td>\n",
       "      <td>891.000000</td>\n",
       "      <td>714.000000</td>\n",
       "      <td>891.000000</td>\n",
       "      <td>891.000000</td>\n",
       "      <td>891.000000</td>\n",
       "    </tr>\n",
       "    <tr>\n",
       "      <th>mean</th>\n",
       "      <td>446.000000</td>\n",
       "      <td>0.383838</td>\n",
       "      <td>2.308642</td>\n",
       "      <td>29.699118</td>\n",
       "      <td>0.523008</td>\n",
       "      <td>0.381594</td>\n",
       "      <td>32.204208</td>\n",
       "    </tr>\n",
       "    <tr>\n",
       "      <th>std</th>\n",
       "      <td>257.353842</td>\n",
       "      <td>0.486592</td>\n",
       "      <td>0.836071</td>\n",
       "      <td>14.526497</td>\n",
       "      <td>1.102743</td>\n",
       "      <td>0.806057</td>\n",
       "      <td>49.693429</td>\n",
       "    </tr>\n",
       "    <tr>\n",
       "      <th>min</th>\n",
       "      <td>1.000000</td>\n",
       "      <td>0.000000</td>\n",
       "      <td>1.000000</td>\n",
       "      <td>0.420000</td>\n",
       "      <td>0.000000</td>\n",
       "      <td>0.000000</td>\n",
       "      <td>0.000000</td>\n",
       "    </tr>\n",
       "    <tr>\n",
       "      <th>25%</th>\n",
       "      <td>223.500000</td>\n",
       "      <td>0.000000</td>\n",
       "      <td>2.000000</td>\n",
       "      <td>20.125000</td>\n",
       "      <td>0.000000</td>\n",
       "      <td>0.000000</td>\n",
       "      <td>7.910400</td>\n",
       "    </tr>\n",
       "    <tr>\n",
       "      <th>50%</th>\n",
       "      <td>446.000000</td>\n",
       "      <td>0.000000</td>\n",
       "      <td>3.000000</td>\n",
       "      <td>28.000000</td>\n",
       "      <td>0.000000</td>\n",
       "      <td>0.000000</td>\n",
       "      <td>14.454200</td>\n",
       "    </tr>\n",
       "    <tr>\n",
       "      <th>75%</th>\n",
       "      <td>668.500000</td>\n",
       "      <td>1.000000</td>\n",
       "      <td>3.000000</td>\n",
       "      <td>38.000000</td>\n",
       "      <td>1.000000</td>\n",
       "      <td>0.000000</td>\n",
       "      <td>31.000000</td>\n",
       "    </tr>\n",
       "    <tr>\n",
       "      <th>max</th>\n",
       "      <td>891.000000</td>\n",
       "      <td>1.000000</td>\n",
       "      <td>3.000000</td>\n",
       "      <td>80.000000</td>\n",
       "      <td>8.000000</td>\n",
       "      <td>6.000000</td>\n",
       "      <td>512.329200</td>\n",
       "    </tr>\n",
       "  </tbody>\n",
       "</table>\n",
       "</div>"
      ],
      "text/plain": [
       "       PassengerId    Survived      Pclass         Age       SibSp  \\\n",
       "count   891.000000  891.000000  891.000000  714.000000  891.000000   \n",
       "mean    446.000000    0.383838    2.308642   29.699118    0.523008   \n",
       "std     257.353842    0.486592    0.836071   14.526497    1.102743   \n",
       "min       1.000000    0.000000    1.000000    0.420000    0.000000   \n",
       "25%     223.500000    0.000000    2.000000   20.125000    0.000000   \n",
       "50%     446.000000    0.000000    3.000000   28.000000    0.000000   \n",
       "75%     668.500000    1.000000    3.000000   38.000000    1.000000   \n",
       "max     891.000000    1.000000    3.000000   80.000000    8.000000   \n",
       "\n",
       "            Parch        Fare  \n",
       "count  891.000000  891.000000  \n",
       "mean     0.381594   32.204208  \n",
       "std      0.806057   49.693429  \n",
       "min      0.000000    0.000000  \n",
       "25%      0.000000    7.910400  \n",
       "50%      0.000000   14.454200  \n",
       "75%      0.000000   31.000000  \n",
       "max      6.000000  512.329200  "
      ]
     },
     "execution_count": 928,
     "metadata": {},
     "output_type": "execute_result"
    }
   ],
   "source": [
    "X.describe()"
   ]
  },
  {
   "cell_type": "markdown",
   "id": "1c88aa0c",
   "metadata": {},
   "source": [
    "### Monotoni atributi\n",
    "Provjerimo postoje li monotoni atributi, odnosno atributi čija vrijednost jednoliko raste."
   ]
  },
  {
   "cell_type": "code",
   "execution_count": 929,
   "id": "794a74da",
   "metadata": {},
   "outputs": [
    {
     "data": {
      "text/plain": [
       "PassengerId    891\n",
       "Survived         2\n",
       "Pclass           3\n",
       "Name           891\n",
       "Sex              2\n",
       "Age             88\n",
       "SibSp            7\n",
       "Parch            7\n",
       "Ticket         681\n",
       "Fare           248\n",
       "Cabin          147\n",
       "Embarked         3\n",
       "dtype: int64"
      ]
     },
     "execution_count": 929,
     "metadata": {},
     "output_type": "execute_result"
    }
   ],
   "source": [
    "X.nunique()"
   ]
  },
  {
   "cell_type": "markdown",
   "id": "847502d8",
   "metadata": {},
   "source": [
    "Funkcija nunique broji jedinstvene vrijednosti po stupcima i može služiti kao dobar indikator monotonih atributa. U ovom slučaju kandidati za monotoni atribut su PassengerId i Name jer svaki zapis ima jedinstvenu vrijednost. Lako je zaključiti da je PassengerId monotoni atribut, a Name nije monotoni atribut. Izbacimo atribut PassengerId iz skupa podataka."
   ]
  },
  {
   "cell_type": "code",
   "execution_count": 930,
   "id": "b7d0e43d",
   "metadata": {},
   "outputs": [],
   "source": [
    "X.drop(('PassengerId'), axis=1, inplace=True)"
   ]
  },
  {
   "cell_type": "markdown",
   "id": "685e66aa",
   "metadata": {},
   "source": [
    "### Klasifikacija #1\n",
    "\n",
    "Pokušamo li napraviti klasifikaciju koristeći trenutnu verziju podataka, dogodit će se pogreška zato što algoritmi iz modula sklearn rade isključivo s numeričkim vrijednostima. "
   ]
  },
  {
   "cell_type": "code",
   "execution_count": 931,
   "id": "9ad6efc2",
   "metadata": {
    "scrolled": true
   },
   "outputs": [
    {
     "ename": "ValueError",
     "evalue": "could not convert string to float: 'McCarthy, Mr. Timothy J'",
     "output_type": "error",
     "traceback": [
      "\u001b[1;31m---------------------------------------------------------------------------\u001b[0m",
      "\u001b[1;31mValueError\u001b[0m                                Traceback (most recent call last)",
      "\u001b[1;32m~\\AppData\\Local\\Temp\\2/ipykernel_17560/892182781.py\u001b[0m in \u001b[0;36m<module>\u001b[1;34m\u001b[0m\n\u001b[0;32m     25\u001b[0m \u001b[1;33m\u001b[0m\u001b[0m\n\u001b[0;32m     26\u001b[0m \u001b[1;31m# pozovi definiranu funkciju\u001b[0m\u001b[1;33m\u001b[0m\u001b[1;33m\u001b[0m\u001b[0m\n\u001b[1;32m---> 27\u001b[1;33m \u001b[0mklasificiraj\u001b[0m\u001b[1;33m(\u001b[0m\u001b[0mX\u001b[0m\u001b[1;33m)\u001b[0m\u001b[1;33m\u001b[0m\u001b[1;33m\u001b[0m\u001b[0m\n\u001b[0m",
      "\u001b[1;32m~\\AppData\\Local\\Temp\\2/ipykernel_17560/892182781.py\u001b[0m in \u001b[0;36mklasificiraj\u001b[1;34m(df)\u001b[0m\n\u001b[0;32m     12\u001b[0m     \u001b[1;31m# instanciraj i treniraj model\u001b[0m\u001b[1;33m\u001b[0m\u001b[1;33m\u001b[0m\u001b[0m\n\u001b[0;32m     13\u001b[0m     \u001b[0mmodel\u001b[0m \u001b[1;33m=\u001b[0m \u001b[0mRandomForestClassifier\u001b[0m\u001b[1;33m(\u001b[0m\u001b[0mrandom_state\u001b[0m\u001b[1;33m=\u001b[0m\u001b[1;36m42\u001b[0m\u001b[1;33m)\u001b[0m\u001b[1;33m\u001b[0m\u001b[1;33m\u001b[0m\u001b[0m\n\u001b[1;32m---> 14\u001b[1;33m     \u001b[0mmodel\u001b[0m\u001b[1;33m.\u001b[0m\u001b[0mfit\u001b[0m\u001b[1;33m(\u001b[0m\u001b[0mX_train\u001b[0m\u001b[1;33m,\u001b[0m \u001b[0my_train\u001b[0m\u001b[1;33m)\u001b[0m\u001b[1;33m\u001b[0m\u001b[1;33m\u001b[0m\u001b[0m\n\u001b[0m\u001b[0;32m     15\u001b[0m     \u001b[0my_pred\u001b[0m \u001b[1;33m=\u001b[0m \u001b[0mmodel\u001b[0m\u001b[1;33m.\u001b[0m\u001b[0mpredict\u001b[0m\u001b[1;33m(\u001b[0m\u001b[0mX_test\u001b[0m\u001b[1;33m)\u001b[0m\u001b[1;33m\u001b[0m\u001b[1;33m\u001b[0m\u001b[0m\n\u001b[0;32m     16\u001b[0m \u001b[1;33m\u001b[0m\u001b[0m\n",
      "\u001b[1;32m~\\.conda\\envs\\lab2\\lib\\site-packages\\sklearn\\ensemble\\_forest.py\u001b[0m in \u001b[0;36mfit\u001b[1;34m(self, X, y, sample_weight)\u001b[0m\n\u001b[0;32m    302\u001b[0m                 \u001b[1;34m\"sparse multilabel-indicator for y is not supported.\"\u001b[0m\u001b[1;33m\u001b[0m\u001b[1;33m\u001b[0m\u001b[0m\n\u001b[0;32m    303\u001b[0m             )\n\u001b[1;32m--> 304\u001b[1;33m         X, y = self._validate_data(X, y, multi_output=True,\n\u001b[0m\u001b[0;32m    305\u001b[0m                                    accept_sparse=\"csc\", dtype=DTYPE)\n\u001b[0;32m    306\u001b[0m         \u001b[1;32mif\u001b[0m \u001b[0msample_weight\u001b[0m \u001b[1;32mis\u001b[0m \u001b[1;32mnot\u001b[0m \u001b[1;32mNone\u001b[0m\u001b[1;33m:\u001b[0m\u001b[1;33m\u001b[0m\u001b[1;33m\u001b[0m\u001b[0m\n",
      "\u001b[1;32m~\\.conda\\envs\\lab2\\lib\\site-packages\\sklearn\\base.py\u001b[0m in \u001b[0;36m_validate_data\u001b[1;34m(self, X, y, reset, validate_separately, **check_params)\u001b[0m\n\u001b[0;32m    431\u001b[0m                 \u001b[0my\u001b[0m \u001b[1;33m=\u001b[0m \u001b[0mcheck_array\u001b[0m\u001b[1;33m(\u001b[0m\u001b[0my\u001b[0m\u001b[1;33m,\u001b[0m \u001b[1;33m**\u001b[0m\u001b[0mcheck_y_params\u001b[0m\u001b[1;33m)\u001b[0m\u001b[1;33m\u001b[0m\u001b[1;33m\u001b[0m\u001b[0m\n\u001b[0;32m    432\u001b[0m             \u001b[1;32melse\u001b[0m\u001b[1;33m:\u001b[0m\u001b[1;33m\u001b[0m\u001b[1;33m\u001b[0m\u001b[0m\n\u001b[1;32m--> 433\u001b[1;33m                 \u001b[0mX\u001b[0m\u001b[1;33m,\u001b[0m \u001b[0my\u001b[0m \u001b[1;33m=\u001b[0m \u001b[0mcheck_X_y\u001b[0m\u001b[1;33m(\u001b[0m\u001b[0mX\u001b[0m\u001b[1;33m,\u001b[0m \u001b[0my\u001b[0m\u001b[1;33m,\u001b[0m \u001b[1;33m**\u001b[0m\u001b[0mcheck_params\u001b[0m\u001b[1;33m)\u001b[0m\u001b[1;33m\u001b[0m\u001b[1;33m\u001b[0m\u001b[0m\n\u001b[0m\u001b[0;32m    434\u001b[0m             \u001b[0mout\u001b[0m \u001b[1;33m=\u001b[0m \u001b[0mX\u001b[0m\u001b[1;33m,\u001b[0m \u001b[0my\u001b[0m\u001b[1;33m\u001b[0m\u001b[1;33m\u001b[0m\u001b[0m\n\u001b[0;32m    435\u001b[0m \u001b[1;33m\u001b[0m\u001b[0m\n",
      "\u001b[1;32m~\\.conda\\envs\\lab2\\lib\\site-packages\\sklearn\\utils\\validation.py\u001b[0m in \u001b[0;36minner_f\u001b[1;34m(*args, **kwargs)\u001b[0m\n\u001b[0;32m     61\u001b[0m             \u001b[0mextra_args\u001b[0m \u001b[1;33m=\u001b[0m \u001b[0mlen\u001b[0m\u001b[1;33m(\u001b[0m\u001b[0margs\u001b[0m\u001b[1;33m)\u001b[0m \u001b[1;33m-\u001b[0m \u001b[0mlen\u001b[0m\u001b[1;33m(\u001b[0m\u001b[0mall_args\u001b[0m\u001b[1;33m)\u001b[0m\u001b[1;33m\u001b[0m\u001b[1;33m\u001b[0m\u001b[0m\n\u001b[0;32m     62\u001b[0m             \u001b[1;32mif\u001b[0m \u001b[0mextra_args\u001b[0m \u001b[1;33m<=\u001b[0m \u001b[1;36m0\u001b[0m\u001b[1;33m:\u001b[0m\u001b[1;33m\u001b[0m\u001b[1;33m\u001b[0m\u001b[0m\n\u001b[1;32m---> 63\u001b[1;33m                 \u001b[1;32mreturn\u001b[0m \u001b[0mf\u001b[0m\u001b[1;33m(\u001b[0m\u001b[1;33m*\u001b[0m\u001b[0margs\u001b[0m\u001b[1;33m,\u001b[0m \u001b[1;33m**\u001b[0m\u001b[0mkwargs\u001b[0m\u001b[1;33m)\u001b[0m\u001b[1;33m\u001b[0m\u001b[1;33m\u001b[0m\u001b[0m\n\u001b[0m\u001b[0;32m     64\u001b[0m \u001b[1;33m\u001b[0m\u001b[0m\n\u001b[0;32m     65\u001b[0m             \u001b[1;31m# extra_args > 0\u001b[0m\u001b[1;33m\u001b[0m\u001b[1;33m\u001b[0m\u001b[0m\n",
      "\u001b[1;32m~\\.conda\\envs\\lab2\\lib\\site-packages\\sklearn\\utils\\validation.py\u001b[0m in \u001b[0;36mcheck_X_y\u001b[1;34m(X, y, accept_sparse, accept_large_sparse, dtype, order, copy, force_all_finite, ensure_2d, allow_nd, multi_output, ensure_min_samples, ensure_min_features, y_numeric, estimator)\u001b[0m\n\u001b[0;32m    869\u001b[0m         \u001b[1;32mraise\u001b[0m \u001b[0mValueError\u001b[0m\u001b[1;33m(\u001b[0m\u001b[1;34m\"y cannot be None\"\u001b[0m\u001b[1;33m)\u001b[0m\u001b[1;33m\u001b[0m\u001b[1;33m\u001b[0m\u001b[0m\n\u001b[0;32m    870\u001b[0m \u001b[1;33m\u001b[0m\u001b[0m\n\u001b[1;32m--> 871\u001b[1;33m     X = check_array(X, accept_sparse=accept_sparse,\n\u001b[0m\u001b[0;32m    872\u001b[0m                     \u001b[0maccept_large_sparse\u001b[0m\u001b[1;33m=\u001b[0m\u001b[0maccept_large_sparse\u001b[0m\u001b[1;33m,\u001b[0m\u001b[1;33m\u001b[0m\u001b[1;33m\u001b[0m\u001b[0m\n\u001b[0;32m    873\u001b[0m                     \u001b[0mdtype\u001b[0m\u001b[1;33m=\u001b[0m\u001b[0mdtype\u001b[0m\u001b[1;33m,\u001b[0m \u001b[0morder\u001b[0m\u001b[1;33m=\u001b[0m\u001b[0morder\u001b[0m\u001b[1;33m,\u001b[0m \u001b[0mcopy\u001b[0m\u001b[1;33m=\u001b[0m\u001b[0mcopy\u001b[0m\u001b[1;33m,\u001b[0m\u001b[1;33m\u001b[0m\u001b[1;33m\u001b[0m\u001b[0m\n",
      "\u001b[1;32m~\\.conda\\envs\\lab2\\lib\\site-packages\\sklearn\\utils\\validation.py\u001b[0m in \u001b[0;36minner_f\u001b[1;34m(*args, **kwargs)\u001b[0m\n\u001b[0;32m     61\u001b[0m             \u001b[0mextra_args\u001b[0m \u001b[1;33m=\u001b[0m \u001b[0mlen\u001b[0m\u001b[1;33m(\u001b[0m\u001b[0margs\u001b[0m\u001b[1;33m)\u001b[0m \u001b[1;33m-\u001b[0m \u001b[0mlen\u001b[0m\u001b[1;33m(\u001b[0m\u001b[0mall_args\u001b[0m\u001b[1;33m)\u001b[0m\u001b[1;33m\u001b[0m\u001b[1;33m\u001b[0m\u001b[0m\n\u001b[0;32m     62\u001b[0m             \u001b[1;32mif\u001b[0m \u001b[0mextra_args\u001b[0m \u001b[1;33m<=\u001b[0m \u001b[1;36m0\u001b[0m\u001b[1;33m:\u001b[0m\u001b[1;33m\u001b[0m\u001b[1;33m\u001b[0m\u001b[0m\n\u001b[1;32m---> 63\u001b[1;33m                 \u001b[1;32mreturn\u001b[0m \u001b[0mf\u001b[0m\u001b[1;33m(\u001b[0m\u001b[1;33m*\u001b[0m\u001b[0margs\u001b[0m\u001b[1;33m,\u001b[0m \u001b[1;33m**\u001b[0m\u001b[0mkwargs\u001b[0m\u001b[1;33m)\u001b[0m\u001b[1;33m\u001b[0m\u001b[1;33m\u001b[0m\u001b[0m\n\u001b[0m\u001b[0;32m     64\u001b[0m \u001b[1;33m\u001b[0m\u001b[0m\n\u001b[0;32m     65\u001b[0m             \u001b[1;31m# extra_args > 0\u001b[0m\u001b[1;33m\u001b[0m\u001b[1;33m\u001b[0m\u001b[0m\n",
      "\u001b[1;32m~\\.conda\\envs\\lab2\\lib\\site-packages\\sklearn\\utils\\validation.py\u001b[0m in \u001b[0;36mcheck_array\u001b[1;34m(array, accept_sparse, accept_large_sparse, dtype, order, copy, force_all_finite, ensure_2d, allow_nd, ensure_min_samples, ensure_min_features, estimator)\u001b[0m\n\u001b[0;32m    671\u001b[0m                     \u001b[0marray\u001b[0m \u001b[1;33m=\u001b[0m \u001b[0marray\u001b[0m\u001b[1;33m.\u001b[0m\u001b[0mastype\u001b[0m\u001b[1;33m(\u001b[0m\u001b[0mdtype\u001b[0m\u001b[1;33m,\u001b[0m \u001b[0mcasting\u001b[0m\u001b[1;33m=\u001b[0m\u001b[1;34m\"unsafe\"\u001b[0m\u001b[1;33m,\u001b[0m \u001b[0mcopy\u001b[0m\u001b[1;33m=\u001b[0m\u001b[1;32mFalse\u001b[0m\u001b[1;33m)\u001b[0m\u001b[1;33m\u001b[0m\u001b[1;33m\u001b[0m\u001b[0m\n\u001b[0;32m    672\u001b[0m                 \u001b[1;32melse\u001b[0m\u001b[1;33m:\u001b[0m\u001b[1;33m\u001b[0m\u001b[1;33m\u001b[0m\u001b[0m\n\u001b[1;32m--> 673\u001b[1;33m                     \u001b[0marray\u001b[0m \u001b[1;33m=\u001b[0m \u001b[0mnp\u001b[0m\u001b[1;33m.\u001b[0m\u001b[0masarray\u001b[0m\u001b[1;33m(\u001b[0m\u001b[0marray\u001b[0m\u001b[1;33m,\u001b[0m \u001b[0morder\u001b[0m\u001b[1;33m=\u001b[0m\u001b[0morder\u001b[0m\u001b[1;33m,\u001b[0m \u001b[0mdtype\u001b[0m\u001b[1;33m=\u001b[0m\u001b[0mdtype\u001b[0m\u001b[1;33m)\u001b[0m\u001b[1;33m\u001b[0m\u001b[1;33m\u001b[0m\u001b[0m\n\u001b[0m\u001b[0;32m    674\u001b[0m             \u001b[1;32mexcept\u001b[0m \u001b[0mComplexWarning\u001b[0m \u001b[1;32mas\u001b[0m \u001b[0mcomplex_warning\u001b[0m\u001b[1;33m:\u001b[0m\u001b[1;33m\u001b[0m\u001b[1;33m\u001b[0m\u001b[0m\n\u001b[0;32m    675\u001b[0m                 raise ValueError(\"Complex data not supported\\n\"\n",
      "\u001b[1;32m~\\.conda\\envs\\lab2\\lib\\site-packages\\numpy\\core\\_asarray.py\u001b[0m in \u001b[0;36masarray\u001b[1;34m(a, dtype, order, like)\u001b[0m\n\u001b[0;32m    100\u001b[0m         \u001b[1;32mreturn\u001b[0m \u001b[0m_asarray_with_like\u001b[0m\u001b[1;33m(\u001b[0m\u001b[0ma\u001b[0m\u001b[1;33m,\u001b[0m \u001b[0mdtype\u001b[0m\u001b[1;33m=\u001b[0m\u001b[0mdtype\u001b[0m\u001b[1;33m,\u001b[0m \u001b[0morder\u001b[0m\u001b[1;33m=\u001b[0m\u001b[0morder\u001b[0m\u001b[1;33m,\u001b[0m \u001b[0mlike\u001b[0m\u001b[1;33m=\u001b[0m\u001b[0mlike\u001b[0m\u001b[1;33m)\u001b[0m\u001b[1;33m\u001b[0m\u001b[1;33m\u001b[0m\u001b[0m\n\u001b[0;32m    101\u001b[0m \u001b[1;33m\u001b[0m\u001b[0m\n\u001b[1;32m--> 102\u001b[1;33m     \u001b[1;32mreturn\u001b[0m \u001b[0marray\u001b[0m\u001b[1;33m(\u001b[0m\u001b[0ma\u001b[0m\u001b[1;33m,\u001b[0m \u001b[0mdtype\u001b[0m\u001b[1;33m,\u001b[0m \u001b[0mcopy\u001b[0m\u001b[1;33m=\u001b[0m\u001b[1;32mFalse\u001b[0m\u001b[1;33m,\u001b[0m \u001b[0morder\u001b[0m\u001b[1;33m=\u001b[0m\u001b[0morder\u001b[0m\u001b[1;33m)\u001b[0m\u001b[1;33m\u001b[0m\u001b[1;33m\u001b[0m\u001b[0m\n\u001b[0m\u001b[0;32m    103\u001b[0m \u001b[1;33m\u001b[0m\u001b[0m\n\u001b[0;32m    104\u001b[0m \u001b[1;33m\u001b[0m\u001b[0m\n",
      "\u001b[1;32m~\\.conda\\envs\\lab2\\lib\\site-packages\\pandas\\core\\generic.py\u001b[0m in \u001b[0;36m__array__\u001b[1;34m(self, dtype)\u001b[0m\n\u001b[0;32m   1991\u001b[0m \u001b[1;33m\u001b[0m\u001b[0m\n\u001b[0;32m   1992\u001b[0m     \u001b[1;32mdef\u001b[0m \u001b[0m__array__\u001b[0m\u001b[1;33m(\u001b[0m\u001b[0mself\u001b[0m\u001b[1;33m,\u001b[0m \u001b[0mdtype\u001b[0m\u001b[1;33m:\u001b[0m \u001b[0mNpDtype\u001b[0m \u001b[1;33m|\u001b[0m \u001b[1;32mNone\u001b[0m \u001b[1;33m=\u001b[0m \u001b[1;32mNone\u001b[0m\u001b[1;33m)\u001b[0m \u001b[1;33m->\u001b[0m \u001b[0mnp\u001b[0m\u001b[1;33m.\u001b[0m\u001b[0mndarray\u001b[0m\u001b[1;33m:\u001b[0m\u001b[1;33m\u001b[0m\u001b[1;33m\u001b[0m\u001b[0m\n\u001b[1;32m-> 1993\u001b[1;33m         \u001b[1;32mreturn\u001b[0m \u001b[0mnp\u001b[0m\u001b[1;33m.\u001b[0m\u001b[0masarray\u001b[0m\u001b[1;33m(\u001b[0m\u001b[0mself\u001b[0m\u001b[1;33m.\u001b[0m\u001b[0m_values\u001b[0m\u001b[1;33m,\u001b[0m \u001b[0mdtype\u001b[0m\u001b[1;33m=\u001b[0m\u001b[0mdtype\u001b[0m\u001b[1;33m)\u001b[0m\u001b[1;33m\u001b[0m\u001b[1;33m\u001b[0m\u001b[0m\n\u001b[0m\u001b[0;32m   1994\u001b[0m \u001b[1;33m\u001b[0m\u001b[0m\n\u001b[0;32m   1995\u001b[0m     def __array_wrap__(\n",
      "\u001b[1;32m~\\.conda\\envs\\lab2\\lib\\site-packages\\numpy\\core\\_asarray.py\u001b[0m in \u001b[0;36masarray\u001b[1;34m(a, dtype, order, like)\u001b[0m\n\u001b[0;32m    100\u001b[0m         \u001b[1;32mreturn\u001b[0m \u001b[0m_asarray_with_like\u001b[0m\u001b[1;33m(\u001b[0m\u001b[0ma\u001b[0m\u001b[1;33m,\u001b[0m \u001b[0mdtype\u001b[0m\u001b[1;33m=\u001b[0m\u001b[0mdtype\u001b[0m\u001b[1;33m,\u001b[0m \u001b[0morder\u001b[0m\u001b[1;33m=\u001b[0m\u001b[0morder\u001b[0m\u001b[1;33m,\u001b[0m \u001b[0mlike\u001b[0m\u001b[1;33m=\u001b[0m\u001b[0mlike\u001b[0m\u001b[1;33m)\u001b[0m\u001b[1;33m\u001b[0m\u001b[1;33m\u001b[0m\u001b[0m\n\u001b[0;32m    101\u001b[0m \u001b[1;33m\u001b[0m\u001b[0m\n\u001b[1;32m--> 102\u001b[1;33m     \u001b[1;32mreturn\u001b[0m \u001b[0marray\u001b[0m\u001b[1;33m(\u001b[0m\u001b[0ma\u001b[0m\u001b[1;33m,\u001b[0m \u001b[0mdtype\u001b[0m\u001b[1;33m,\u001b[0m \u001b[0mcopy\u001b[0m\u001b[1;33m=\u001b[0m\u001b[1;32mFalse\u001b[0m\u001b[1;33m,\u001b[0m \u001b[0morder\u001b[0m\u001b[1;33m=\u001b[0m\u001b[0morder\u001b[0m\u001b[1;33m)\u001b[0m\u001b[1;33m\u001b[0m\u001b[1;33m\u001b[0m\u001b[0m\n\u001b[0m\u001b[0;32m    103\u001b[0m \u001b[1;33m\u001b[0m\u001b[0m\n\u001b[0;32m    104\u001b[0m \u001b[1;33m\u001b[0m\u001b[0m\n",
      "\u001b[1;31mValueError\u001b[0m: could not convert string to float: 'McCarthy, Mr. Timothy J'"
     ]
    }
   ],
   "source": [
    "# definicija funkcije koju ćemo koristiti za klasifikaciju kroz cijelu bilježnicu\n",
    "def klasificiraj(df):\n",
    "    # odvajanje oznake klase\n",
    "    X = df.loc[:, df.columns != 'Survived']\n",
    "    y = df.loc[:, 'Survived']\n",
    "    \n",
    "    ######## Ovako izgleda treniranje modela na pojedinačnoj podijeli podataka ########\n",
    "    \n",
    "    # razdvoji podatke\n",
    "    X_train, X_test, y_train, y_test = train_test_split(X, y, test_size=0.33, random_state=42)\n",
    "    \n",
    "    # instanciraj i treniraj model \n",
    "    model = RandomForestClassifier(random_state=42)\n",
    "    model.fit(X_train, y_train)\n",
    "    y_pred = model.predict(X_test)\n",
    "    \n",
    "    \n",
    "    ######## Preporučeni način validiranja modela je korištenjem unakrsne provjere ########\n",
    "    # unakrsna valicadija\n",
    "    scores = cross_val_score(model, X, y, cv=20)\n",
    "    \n",
    "    \n",
    "    # evaluiraj model\n",
    "    print('Točnost: ', scores.mean(), ' +- ', scores.std())\n",
    "   \n",
    "# pozovi definiranu funkciju\n",
    "klasificiraj(X)"
   ]
  },
  {
   "cell_type": "markdown",
   "id": "9b7dad36",
   "metadata": {},
   "source": [
    "Pogreška se dogodila zato što algoritmi iz modula sklearn rade isključivo s numeričkim vrijednostima. Pogledajmo koje su sve vrijednosti numeričke."
   ]
  },
  {
   "cell_type": "code",
   "execution_count": 932,
   "id": "59cb285c",
   "metadata": {},
   "outputs": [
    {
     "name": "stdout",
     "output_type": "stream",
     "text": [
      "<class 'pandas.core.frame.DataFrame'>\n",
      "RangeIndex: 891 entries, 0 to 890\n",
      "Data columns (total 11 columns):\n",
      " #   Column    Non-Null Count  Dtype  \n",
      "---  ------    --------------  -----  \n",
      " 0   Survived  891 non-null    int64  \n",
      " 1   Pclass    891 non-null    int64  \n",
      " 2   Name      891 non-null    object \n",
      " 3   Sex       891 non-null    object \n",
      " 4   Age       714 non-null    float64\n",
      " 5   SibSp     891 non-null    int64  \n",
      " 6   Parch     891 non-null    int64  \n",
      " 7   Ticket    891 non-null    object \n",
      " 8   Fare      891 non-null    float64\n",
      " 9   Cabin     204 non-null    object \n",
      " 10  Embarked  889 non-null    object \n",
      "dtypes: float64(2), int64(4), object(5)\n",
      "memory usage: 76.7+ KB\n"
     ]
    }
   ],
   "source": [
    "X.info()"
   ]
  },
  {
   "cell_type": "code",
   "execution_count": 933,
   "id": "88c6db94",
   "metadata": {
    "scrolled": true
   },
   "outputs": [
    {
     "ename": "ValueError",
     "evalue": "Input contains NaN, infinity or a value too large for dtype('float32').",
     "output_type": "error",
     "traceback": [
      "\u001b[1;31m---------------------------------------------------------------------------\u001b[0m",
      "\u001b[1;31mValueError\u001b[0m                                Traceback (most recent call last)",
      "\u001b[1;32m~\\AppData\\Local\\Temp\\2/ipykernel_17560/1615584785.py\u001b[0m in \u001b[0;36m<module>\u001b[1;34m\u001b[0m\n\u001b[0;32m      1\u001b[0m \u001b[1;31m# napravimo klasifikaciju isključivo s numeričkim značajkama\u001b[0m\u001b[1;33m\u001b[0m\u001b[1;33m\u001b[0m\u001b[0m\n\u001b[0;32m      2\u001b[0m \u001b[0mX_tmp\u001b[0m \u001b[1;33m=\u001b[0m \u001b[0mX\u001b[0m\u001b[1;33m.\u001b[0m\u001b[0mloc\u001b[0m\u001b[1;33m[\u001b[0m\u001b[1;33m:\u001b[0m\u001b[1;33m,\u001b[0m\u001b[1;33m[\u001b[0m\u001b[1;34m'Survived'\u001b[0m\u001b[1;33m,\u001b[0m\u001b[1;34m'Pclass'\u001b[0m\u001b[1;33m,\u001b[0m \u001b[1;34m'Age'\u001b[0m\u001b[1;33m,\u001b[0m \u001b[1;34m'SibSp'\u001b[0m\u001b[1;33m,\u001b[0m \u001b[1;34m'Parch'\u001b[0m\u001b[1;33m,\u001b[0m \u001b[1;34m'Fare'\u001b[0m\u001b[1;33m]\u001b[0m\u001b[1;33m]\u001b[0m\u001b[1;33m\u001b[0m\u001b[1;33m\u001b[0m\u001b[0m\n\u001b[1;32m----> 3\u001b[1;33m \u001b[0mklasificiraj\u001b[0m\u001b[1;33m(\u001b[0m\u001b[0mX_tmp\u001b[0m\u001b[1;33m)\u001b[0m\u001b[1;33m\u001b[0m\u001b[1;33m\u001b[0m\u001b[0m\n\u001b[0m",
      "\u001b[1;32m~\\AppData\\Local\\Temp\\2/ipykernel_17560/892182781.py\u001b[0m in \u001b[0;36mklasificiraj\u001b[1;34m(df)\u001b[0m\n\u001b[0;32m     12\u001b[0m     \u001b[1;31m# instanciraj i treniraj model\u001b[0m\u001b[1;33m\u001b[0m\u001b[1;33m\u001b[0m\u001b[0m\n\u001b[0;32m     13\u001b[0m     \u001b[0mmodel\u001b[0m \u001b[1;33m=\u001b[0m \u001b[0mRandomForestClassifier\u001b[0m\u001b[1;33m(\u001b[0m\u001b[0mrandom_state\u001b[0m\u001b[1;33m=\u001b[0m\u001b[1;36m42\u001b[0m\u001b[1;33m)\u001b[0m\u001b[1;33m\u001b[0m\u001b[1;33m\u001b[0m\u001b[0m\n\u001b[1;32m---> 14\u001b[1;33m     \u001b[0mmodel\u001b[0m\u001b[1;33m.\u001b[0m\u001b[0mfit\u001b[0m\u001b[1;33m(\u001b[0m\u001b[0mX_train\u001b[0m\u001b[1;33m,\u001b[0m \u001b[0my_train\u001b[0m\u001b[1;33m)\u001b[0m\u001b[1;33m\u001b[0m\u001b[1;33m\u001b[0m\u001b[0m\n\u001b[0m\u001b[0;32m     15\u001b[0m     \u001b[0my_pred\u001b[0m \u001b[1;33m=\u001b[0m \u001b[0mmodel\u001b[0m\u001b[1;33m.\u001b[0m\u001b[0mpredict\u001b[0m\u001b[1;33m(\u001b[0m\u001b[0mX_test\u001b[0m\u001b[1;33m)\u001b[0m\u001b[1;33m\u001b[0m\u001b[1;33m\u001b[0m\u001b[0m\n\u001b[0;32m     16\u001b[0m \u001b[1;33m\u001b[0m\u001b[0m\n",
      "\u001b[1;32m~\\.conda\\envs\\lab2\\lib\\site-packages\\sklearn\\ensemble\\_forest.py\u001b[0m in \u001b[0;36mfit\u001b[1;34m(self, X, y, sample_weight)\u001b[0m\n\u001b[0;32m    302\u001b[0m                 \u001b[1;34m\"sparse multilabel-indicator for y is not supported.\"\u001b[0m\u001b[1;33m\u001b[0m\u001b[1;33m\u001b[0m\u001b[0m\n\u001b[0;32m    303\u001b[0m             )\n\u001b[1;32m--> 304\u001b[1;33m         X, y = self._validate_data(X, y, multi_output=True,\n\u001b[0m\u001b[0;32m    305\u001b[0m                                    accept_sparse=\"csc\", dtype=DTYPE)\n\u001b[0;32m    306\u001b[0m         \u001b[1;32mif\u001b[0m \u001b[0msample_weight\u001b[0m \u001b[1;32mis\u001b[0m \u001b[1;32mnot\u001b[0m \u001b[1;32mNone\u001b[0m\u001b[1;33m:\u001b[0m\u001b[1;33m\u001b[0m\u001b[1;33m\u001b[0m\u001b[0m\n",
      "\u001b[1;32m~\\.conda\\envs\\lab2\\lib\\site-packages\\sklearn\\base.py\u001b[0m in \u001b[0;36m_validate_data\u001b[1;34m(self, X, y, reset, validate_separately, **check_params)\u001b[0m\n\u001b[0;32m    431\u001b[0m                 \u001b[0my\u001b[0m \u001b[1;33m=\u001b[0m \u001b[0mcheck_array\u001b[0m\u001b[1;33m(\u001b[0m\u001b[0my\u001b[0m\u001b[1;33m,\u001b[0m \u001b[1;33m**\u001b[0m\u001b[0mcheck_y_params\u001b[0m\u001b[1;33m)\u001b[0m\u001b[1;33m\u001b[0m\u001b[1;33m\u001b[0m\u001b[0m\n\u001b[0;32m    432\u001b[0m             \u001b[1;32melse\u001b[0m\u001b[1;33m:\u001b[0m\u001b[1;33m\u001b[0m\u001b[1;33m\u001b[0m\u001b[0m\n\u001b[1;32m--> 433\u001b[1;33m                 \u001b[0mX\u001b[0m\u001b[1;33m,\u001b[0m \u001b[0my\u001b[0m \u001b[1;33m=\u001b[0m \u001b[0mcheck_X_y\u001b[0m\u001b[1;33m(\u001b[0m\u001b[0mX\u001b[0m\u001b[1;33m,\u001b[0m \u001b[0my\u001b[0m\u001b[1;33m,\u001b[0m \u001b[1;33m**\u001b[0m\u001b[0mcheck_params\u001b[0m\u001b[1;33m)\u001b[0m\u001b[1;33m\u001b[0m\u001b[1;33m\u001b[0m\u001b[0m\n\u001b[0m\u001b[0;32m    434\u001b[0m             \u001b[0mout\u001b[0m \u001b[1;33m=\u001b[0m \u001b[0mX\u001b[0m\u001b[1;33m,\u001b[0m \u001b[0my\u001b[0m\u001b[1;33m\u001b[0m\u001b[1;33m\u001b[0m\u001b[0m\n\u001b[0;32m    435\u001b[0m \u001b[1;33m\u001b[0m\u001b[0m\n",
      "\u001b[1;32m~\\.conda\\envs\\lab2\\lib\\site-packages\\sklearn\\utils\\validation.py\u001b[0m in \u001b[0;36minner_f\u001b[1;34m(*args, **kwargs)\u001b[0m\n\u001b[0;32m     61\u001b[0m             \u001b[0mextra_args\u001b[0m \u001b[1;33m=\u001b[0m \u001b[0mlen\u001b[0m\u001b[1;33m(\u001b[0m\u001b[0margs\u001b[0m\u001b[1;33m)\u001b[0m \u001b[1;33m-\u001b[0m \u001b[0mlen\u001b[0m\u001b[1;33m(\u001b[0m\u001b[0mall_args\u001b[0m\u001b[1;33m)\u001b[0m\u001b[1;33m\u001b[0m\u001b[1;33m\u001b[0m\u001b[0m\n\u001b[0;32m     62\u001b[0m             \u001b[1;32mif\u001b[0m \u001b[0mextra_args\u001b[0m \u001b[1;33m<=\u001b[0m \u001b[1;36m0\u001b[0m\u001b[1;33m:\u001b[0m\u001b[1;33m\u001b[0m\u001b[1;33m\u001b[0m\u001b[0m\n\u001b[1;32m---> 63\u001b[1;33m                 \u001b[1;32mreturn\u001b[0m \u001b[0mf\u001b[0m\u001b[1;33m(\u001b[0m\u001b[1;33m*\u001b[0m\u001b[0margs\u001b[0m\u001b[1;33m,\u001b[0m \u001b[1;33m**\u001b[0m\u001b[0mkwargs\u001b[0m\u001b[1;33m)\u001b[0m\u001b[1;33m\u001b[0m\u001b[1;33m\u001b[0m\u001b[0m\n\u001b[0m\u001b[0;32m     64\u001b[0m \u001b[1;33m\u001b[0m\u001b[0m\n\u001b[0;32m     65\u001b[0m             \u001b[1;31m# extra_args > 0\u001b[0m\u001b[1;33m\u001b[0m\u001b[1;33m\u001b[0m\u001b[0m\n",
      "\u001b[1;32m~\\.conda\\envs\\lab2\\lib\\site-packages\\sklearn\\utils\\validation.py\u001b[0m in \u001b[0;36mcheck_X_y\u001b[1;34m(X, y, accept_sparse, accept_large_sparse, dtype, order, copy, force_all_finite, ensure_2d, allow_nd, multi_output, ensure_min_samples, ensure_min_features, y_numeric, estimator)\u001b[0m\n\u001b[0;32m    869\u001b[0m         \u001b[1;32mraise\u001b[0m \u001b[0mValueError\u001b[0m\u001b[1;33m(\u001b[0m\u001b[1;34m\"y cannot be None\"\u001b[0m\u001b[1;33m)\u001b[0m\u001b[1;33m\u001b[0m\u001b[1;33m\u001b[0m\u001b[0m\n\u001b[0;32m    870\u001b[0m \u001b[1;33m\u001b[0m\u001b[0m\n\u001b[1;32m--> 871\u001b[1;33m     X = check_array(X, accept_sparse=accept_sparse,\n\u001b[0m\u001b[0;32m    872\u001b[0m                     \u001b[0maccept_large_sparse\u001b[0m\u001b[1;33m=\u001b[0m\u001b[0maccept_large_sparse\u001b[0m\u001b[1;33m,\u001b[0m\u001b[1;33m\u001b[0m\u001b[1;33m\u001b[0m\u001b[0m\n\u001b[0;32m    873\u001b[0m                     \u001b[0mdtype\u001b[0m\u001b[1;33m=\u001b[0m\u001b[0mdtype\u001b[0m\u001b[1;33m,\u001b[0m \u001b[0morder\u001b[0m\u001b[1;33m=\u001b[0m\u001b[0morder\u001b[0m\u001b[1;33m,\u001b[0m \u001b[0mcopy\u001b[0m\u001b[1;33m=\u001b[0m\u001b[0mcopy\u001b[0m\u001b[1;33m,\u001b[0m\u001b[1;33m\u001b[0m\u001b[1;33m\u001b[0m\u001b[0m\n",
      "\u001b[1;32m~\\.conda\\envs\\lab2\\lib\\site-packages\\sklearn\\utils\\validation.py\u001b[0m in \u001b[0;36minner_f\u001b[1;34m(*args, **kwargs)\u001b[0m\n\u001b[0;32m     61\u001b[0m             \u001b[0mextra_args\u001b[0m \u001b[1;33m=\u001b[0m \u001b[0mlen\u001b[0m\u001b[1;33m(\u001b[0m\u001b[0margs\u001b[0m\u001b[1;33m)\u001b[0m \u001b[1;33m-\u001b[0m \u001b[0mlen\u001b[0m\u001b[1;33m(\u001b[0m\u001b[0mall_args\u001b[0m\u001b[1;33m)\u001b[0m\u001b[1;33m\u001b[0m\u001b[1;33m\u001b[0m\u001b[0m\n\u001b[0;32m     62\u001b[0m             \u001b[1;32mif\u001b[0m \u001b[0mextra_args\u001b[0m \u001b[1;33m<=\u001b[0m \u001b[1;36m0\u001b[0m\u001b[1;33m:\u001b[0m\u001b[1;33m\u001b[0m\u001b[1;33m\u001b[0m\u001b[0m\n\u001b[1;32m---> 63\u001b[1;33m                 \u001b[1;32mreturn\u001b[0m \u001b[0mf\u001b[0m\u001b[1;33m(\u001b[0m\u001b[1;33m*\u001b[0m\u001b[0margs\u001b[0m\u001b[1;33m,\u001b[0m \u001b[1;33m**\u001b[0m\u001b[0mkwargs\u001b[0m\u001b[1;33m)\u001b[0m\u001b[1;33m\u001b[0m\u001b[1;33m\u001b[0m\u001b[0m\n\u001b[0m\u001b[0;32m     64\u001b[0m \u001b[1;33m\u001b[0m\u001b[0m\n\u001b[0;32m     65\u001b[0m             \u001b[1;31m# extra_args > 0\u001b[0m\u001b[1;33m\u001b[0m\u001b[1;33m\u001b[0m\u001b[0m\n",
      "\u001b[1;32m~\\.conda\\envs\\lab2\\lib\\site-packages\\sklearn\\utils\\validation.py\u001b[0m in \u001b[0;36mcheck_array\u001b[1;34m(array, accept_sparse, accept_large_sparse, dtype, order, copy, force_all_finite, ensure_2d, allow_nd, ensure_min_samples, ensure_min_features, estimator)\u001b[0m\n\u001b[0;32m    718\u001b[0m \u001b[1;33m\u001b[0m\u001b[0m\n\u001b[0;32m    719\u001b[0m         \u001b[1;32mif\u001b[0m \u001b[0mforce_all_finite\u001b[0m\u001b[1;33m:\u001b[0m\u001b[1;33m\u001b[0m\u001b[1;33m\u001b[0m\u001b[0m\n\u001b[1;32m--> 720\u001b[1;33m             _assert_all_finite(array,\n\u001b[0m\u001b[0;32m    721\u001b[0m                                allow_nan=force_all_finite == 'allow-nan')\n\u001b[0;32m    722\u001b[0m \u001b[1;33m\u001b[0m\u001b[0m\n",
      "\u001b[1;32m~\\.conda\\envs\\lab2\\lib\\site-packages\\sklearn\\utils\\validation.py\u001b[0m in \u001b[0;36m_assert_all_finite\u001b[1;34m(X, allow_nan, msg_dtype)\u001b[0m\n\u001b[0;32m    101\u001b[0m                 not allow_nan and not np.isfinite(X).all()):\n\u001b[0;32m    102\u001b[0m             \u001b[0mtype_err\u001b[0m \u001b[1;33m=\u001b[0m \u001b[1;34m'infinity'\u001b[0m \u001b[1;32mif\u001b[0m \u001b[0mallow_nan\u001b[0m \u001b[1;32melse\u001b[0m \u001b[1;34m'NaN, infinity'\u001b[0m\u001b[1;33m\u001b[0m\u001b[1;33m\u001b[0m\u001b[0m\n\u001b[1;32m--> 103\u001b[1;33m             raise ValueError(\n\u001b[0m\u001b[0;32m    104\u001b[0m                     \u001b[0mmsg_err\u001b[0m\u001b[1;33m.\u001b[0m\u001b[0mformat\u001b[0m\u001b[1;33m\u001b[0m\u001b[1;33m\u001b[0m\u001b[0m\n\u001b[0;32m    105\u001b[0m                     (type_err,\n",
      "\u001b[1;31mValueError\u001b[0m: Input contains NaN, infinity or a value too large for dtype('float32')."
     ]
    }
   ],
   "source": [
    "# napravimo klasifikaciju isključivo s numeričkim značajkama\n",
    "X_tmp = X.loc[:,['Survived','Pclass', 'Age', 'SibSp', 'Parch', 'Fare']]\n",
    "klasificiraj(X_tmp)"
   ]
  },
  {
   "cell_type": "markdown",
   "id": "f0256940",
   "metadata": {},
   "source": [
    "### Nedostajući podatci\n",
    "\n",
    "Sada imamo novi problem s podatcima - nedostajući podatci. Provjerimo koliko je takvih podataka."
   ]
  },
  {
   "cell_type": "code",
   "execution_count": 934,
   "id": "e69b3609",
   "metadata": {},
   "outputs": [
    {
     "data": {
      "text/plain": [
       "Survived      0\n",
       "Pclass        0\n",
       "Name          0\n",
       "Sex           0\n",
       "Age         177\n",
       "SibSp         0\n",
       "Parch         0\n",
       "Ticket        0\n",
       "Fare          0\n",
       "Cabin       687\n",
       "Embarked      2\n",
       "dtype: int64"
      ]
     },
     "execution_count": 934,
     "metadata": {},
     "output_type": "execute_result"
    }
   ],
   "source": [
    "X.isna().sum()"
   ]
  },
  {
   "cell_type": "markdown",
   "id": "ff063446",
   "metadata": {},
   "source": [
    "Generalno, opcije za rješavanje problema nedostajućih vrijednosti su:\n",
    " - zamijeniti srednjom vrijednošću\n",
    " - u potpunosti izbaciti te zapise iz skupa podataka\n",
    " - u potpunosti izbaciti te značajke iz skupa podataka\n",
    " - interpolacija\n",
    " - pronalazak točnih vrijednosti iz drugih izvora podataka\n",
    " - ...\n",
    " \n",
    "U našem slučaju značajke godina (Age): \n",
    " - nedostajuće godine zamijenit ćemo srednjom vrijednošću\n",
    " - izbacivanje tih zapisa nije opcija jer gubimo previše podataka (gotovo 20%)\n",
    " - izbacivanje te značajke nije opcija jer je značajka previše bitna - djecu (i žene) se često prve spašava\n",
    " - interpolacija u ovom slučaju nema nikakvog smisla\n",
    " - pronalazak točnih vrijednosti iz drugih izvora podataka je najbolja opcija, ali je mi ovdje nećemo raditi radi jednostavnosti vježbe\n",
    " \n",
    "U slučaju značajke kabine (Cabin):\n",
    " - nije numerička vrijednost tako da srednja vrijednost nije ocpija\n",
    " - izbacivanje tih zapisa nije opcije jer gubimo previše podataka (77%)\n",
    " - izbacivanje te značajke je ono što ćemo ovdje napraviti\n",
    " - interpolacija nema smisla jer se ne radi o numeričkoj vrijednosti\n",
    " - pronalazak točnih vrijednosti iz drugih izvora podataka je najbolja opcija, ali je mi ovdje nećemo raditi radi jednostavnosti vježbe\n",
    " \n",
    "U slučaju značajke luka ukrcavanja (Embarked):\n",
    " - nije numerička vrijednost tako da srednja vrijednost nije ocpija \n",
    " - izbacivanje tih zapisa je ono što ćemo ovdje napraviti\n",
    " - izbacivanje te značajke nema smisla jer gubimo cijelu značajku zbog samo dva primjera s nedostajućom vrijednosti\n",
    " - interpolacija nema smisla jer se ne radi o numeričkoj vrijednosti\n",
    " - pronalazak točnih vrijednosti iz drugih izvora podataka je najbolja opcija, ali je mi ovdje nećemo raditi radi jednostavnosti vježbe"
   ]
  },
  {
   "cell_type": "code",
   "execution_count": 935,
   "id": "51e88ae1",
   "metadata": {},
   "outputs": [],
   "source": [
    "X_tmp = X.copy()\n",
    "\n",
    "# ubaci srednju vrijednost godina tamo gdje nedostaje ta informacija\n",
    "X_tmp.loc[X_tmp.Age.isna(),'Age'] = X_tmp.loc[:,'Age'].mean()\n",
    "\n",
    "# izbaci stupac Cabine\n",
    "X_tmp.drop(['Cabin'], axis=1, inplace=True)\n",
    "\n",
    "# izbaci zapise s nedostajućom vrijednosti značajke Embarked\n",
    "X_tmp = X_tmp.loc[X_tmp.Embarked.notnull(), :]"
   ]
  },
  {
   "cell_type": "code",
   "execution_count": 936,
   "id": "9981c3aa",
   "metadata": {},
   "outputs": [
    {
     "name": "stdout",
     "output_type": "stream",
     "text": [
      "Točnost:  0.6886363636363637  +-  0.058314964968449595\n"
     ]
    }
   ],
   "source": [
    "# napravimo klasifikaciju isključivo s numeričkim značajkama\n",
    "X_tmp = X_tmp.loc[:,['Survived','Pclass', 'Age', 'SibSp', 'Parch', 'Fare']]\n",
    "klasificiraj(X_tmp)"
   ]
  },
  {
   "cell_type": "markdown",
   "id": "262d2506",
   "metadata": {},
   "source": [
    "Uspjeli smo napraviti prvu klasifikaciju s točnošću od 68.8%. Pozabavimo se dalje podatcima da vidimo možemo li poboljšati taj rezultat."
   ]
  },
  {
   "cell_type": "markdown",
   "id": "09dbeed9",
   "metadata": {},
   "source": [
    "### Stršeći podatci\n",
    "\n",
    "Provjerimo ima li u skupu podataka stršećih vrijednosti."
   ]
  },
  {
   "cell_type": "code",
   "execution_count": 937,
   "id": "7a43616c",
   "metadata": {},
   "outputs": [
    {
     "data": {
      "text/html": [
       "<div>\n",
       "<style scoped>\n",
       "    .dataframe tbody tr th:only-of-type {\n",
       "        vertical-align: middle;\n",
       "    }\n",
       "\n",
       "    .dataframe tbody tr th {\n",
       "        vertical-align: top;\n",
       "    }\n",
       "\n",
       "    .dataframe thead th {\n",
       "        text-align: right;\n",
       "    }\n",
       "</style>\n",
       "<table border=\"1\" class=\"dataframe\">\n",
       "  <thead>\n",
       "    <tr style=\"text-align: right;\">\n",
       "      <th></th>\n",
       "      <th>Survived</th>\n",
       "      <th>Pclass</th>\n",
       "      <th>Age</th>\n",
       "      <th>SibSp</th>\n",
       "      <th>Parch</th>\n",
       "      <th>Fare</th>\n",
       "    </tr>\n",
       "  </thead>\n",
       "  <tbody>\n",
       "    <tr>\n",
       "      <th>count</th>\n",
       "      <td>889.000000</td>\n",
       "      <td>889.000000</td>\n",
       "      <td>889.000000</td>\n",
       "      <td>889.000000</td>\n",
       "      <td>889.000000</td>\n",
       "      <td>889.000000</td>\n",
       "    </tr>\n",
       "    <tr>\n",
       "      <th>mean</th>\n",
       "      <td>0.382452</td>\n",
       "      <td>2.311586</td>\n",
       "      <td>29.653446</td>\n",
       "      <td>0.524184</td>\n",
       "      <td>0.382452</td>\n",
       "      <td>32.096681</td>\n",
       "    </tr>\n",
       "    <tr>\n",
       "      <th>std</th>\n",
       "      <td>0.486260</td>\n",
       "      <td>0.834700</td>\n",
       "      <td>12.968366</td>\n",
       "      <td>1.103705</td>\n",
       "      <td>0.806761</td>\n",
       "      <td>49.697504</td>\n",
       "    </tr>\n",
       "    <tr>\n",
       "      <th>min</th>\n",
       "      <td>0.000000</td>\n",
       "      <td>1.000000</td>\n",
       "      <td>0.420000</td>\n",
       "      <td>0.000000</td>\n",
       "      <td>0.000000</td>\n",
       "      <td>0.000000</td>\n",
       "    </tr>\n",
       "    <tr>\n",
       "      <th>25%</th>\n",
       "      <td>0.000000</td>\n",
       "      <td>2.000000</td>\n",
       "      <td>22.000000</td>\n",
       "      <td>0.000000</td>\n",
       "      <td>0.000000</td>\n",
       "      <td>7.895800</td>\n",
       "    </tr>\n",
       "    <tr>\n",
       "      <th>50%</th>\n",
       "      <td>0.000000</td>\n",
       "      <td>3.000000</td>\n",
       "      <td>29.699118</td>\n",
       "      <td>0.000000</td>\n",
       "      <td>0.000000</td>\n",
       "      <td>14.454200</td>\n",
       "    </tr>\n",
       "    <tr>\n",
       "      <th>75%</th>\n",
       "      <td>1.000000</td>\n",
       "      <td>3.000000</td>\n",
       "      <td>35.000000</td>\n",
       "      <td>1.000000</td>\n",
       "      <td>0.000000</td>\n",
       "      <td>31.000000</td>\n",
       "    </tr>\n",
       "    <tr>\n",
       "      <th>max</th>\n",
       "      <td>1.000000</td>\n",
       "      <td>3.000000</td>\n",
       "      <td>80.000000</td>\n",
       "      <td>8.000000</td>\n",
       "      <td>6.000000</td>\n",
       "      <td>512.329200</td>\n",
       "    </tr>\n",
       "  </tbody>\n",
       "</table>\n",
       "</div>"
      ],
      "text/plain": [
       "         Survived      Pclass         Age       SibSp       Parch        Fare\n",
       "count  889.000000  889.000000  889.000000  889.000000  889.000000  889.000000\n",
       "mean     0.382452    2.311586   29.653446    0.524184    0.382452   32.096681\n",
       "std      0.486260    0.834700   12.968366    1.103705    0.806761   49.697504\n",
       "min      0.000000    1.000000    0.420000    0.000000    0.000000    0.000000\n",
       "25%      0.000000    2.000000   22.000000    0.000000    0.000000    7.895800\n",
       "50%      0.000000    3.000000   29.699118    0.000000    0.000000   14.454200\n",
       "75%      1.000000    3.000000   35.000000    1.000000    0.000000   31.000000\n",
       "max      1.000000    3.000000   80.000000    8.000000    6.000000  512.329200"
      ]
     },
     "execution_count": 937,
     "metadata": {},
     "output_type": "execute_result"
    }
   ],
   "source": [
    "X_tmp.describe()"
   ]
  },
  {
   "cell_type": "markdown",
   "id": "0bc20bff",
   "metadata": {},
   "source": [
    "Temeljem ovog ispisa kandidati za stršeće podatke su SibSp, Parch i Fare. Pogledamo li SibSp i Parch, maksimalne vrijednosti dosta odskaču, ali nisu nemoguće. Pogledajmo dodatno značajku Fare."
   ]
  },
  {
   "cell_type": "code",
   "execution_count": 938,
   "id": "913200f4",
   "metadata": {},
   "outputs": [
    {
     "name": "stdout",
     "output_type": "stream",
     "text": [
      "Fare > 100:  53\n",
      "Fare > 200:  20\n",
      "Fare > 300:  3\n",
      "Fare > 400:  3\n",
      "Fare > 500:  3\n"
     ]
    }
   ],
   "source": [
    "print('Fare > 100: ', (X_tmp.Fare > 100).sum())\n",
    "print('Fare > 200: ', (X_tmp.Fare > 200).sum())\n",
    "print('Fare > 300: ', (X_tmp.Fare > 300).sum())\n",
    "print('Fare > 400: ', (X_tmp.Fare > 400).sum())\n",
    "print('Fare > 500: ', (X_tmp.Fare > 500).sum())"
   ]
  },
  {
   "cell_type": "code",
   "execution_count": 939,
   "id": "c79d3b1d",
   "metadata": {},
   "outputs": [
    {
     "data": {
      "text/plain": [
       "258    512.3292\n",
       "679    512.3292\n",
       "737    512.3292\n",
       "Name: Fare, dtype: float64"
      ]
     },
     "execution_count": 939,
     "metadata": {},
     "output_type": "execute_result"
    }
   ],
   "source": [
    "X_tmp.loc[X_tmp.Fare > 500, 'Fare']"
   ]
  },
  {
   "cell_type": "markdown",
   "id": "b2dcb0df",
   "metadata": {},
   "source": [
    "Ova tri zapisa jako odudaraju od ostalih zapisa i mogu se smatrati stršećim vrijednostima. Za sada nećemo ništa poduzimati po tom pitanju, no te činjenice treba biti svjestan prilikom modeliranja.  \n",
    "NAPOMENA: Dobar način detekcije stršećih vrijednosti su vizualizacije, a o njima će biti više govora na sljedećem labosu."
   ]
  },
  {
   "cell_type": "markdown",
   "id": "0804b7fa",
   "metadata": {},
   "source": [
    "### Nekonzistentni podatci\n",
    "Bilo kakav slobodan unos teksta često dovodi do nekonzistentnosti u podatcima. Primjerice, titula Ms je sinonimom za titulu Miss. Provjerimo koje sve titule postoje u našem skupu podataka (koristeći regularni izraz) i kojem spolu pripadaju."
   ]
  },
  {
   "cell_type": "code",
   "execution_count": 940,
   "id": "a1b22d81",
   "metadata": {},
   "outputs": [
    {
     "data": {
      "text/html": [
       "<div>\n",
       "<style scoped>\n",
       "    .dataframe tbody tr th:only-of-type {\n",
       "        vertical-align: middle;\n",
       "    }\n",
       "\n",
       "    .dataframe tbody tr th {\n",
       "        vertical-align: top;\n",
       "    }\n",
       "\n",
       "    .dataframe thead th {\n",
       "        text-align: right;\n",
       "    }\n",
       "</style>\n",
       "<table border=\"1\" class=\"dataframe\">\n",
       "  <thead>\n",
       "    <tr style=\"text-align: right;\">\n",
       "      <th>Sex</th>\n",
       "      <th>female</th>\n",
       "      <th>male</th>\n",
       "    </tr>\n",
       "    <tr>\n",
       "      <th>Title</th>\n",
       "      <th></th>\n",
       "      <th></th>\n",
       "    </tr>\n",
       "  </thead>\n",
       "  <tbody>\n",
       "    <tr>\n",
       "      <th>Capt</th>\n",
       "      <td>0</td>\n",
       "      <td>1</td>\n",
       "    </tr>\n",
       "    <tr>\n",
       "      <th>Col</th>\n",
       "      <td>0</td>\n",
       "      <td>2</td>\n",
       "    </tr>\n",
       "    <tr>\n",
       "      <th>Countess</th>\n",
       "      <td>1</td>\n",
       "      <td>0</td>\n",
       "    </tr>\n",
       "    <tr>\n",
       "      <th>Don</th>\n",
       "      <td>0</td>\n",
       "      <td>1</td>\n",
       "    </tr>\n",
       "    <tr>\n",
       "      <th>Dr</th>\n",
       "      <td>1</td>\n",
       "      <td>6</td>\n",
       "    </tr>\n",
       "    <tr>\n",
       "      <th>Jonkheer</th>\n",
       "      <td>0</td>\n",
       "      <td>1</td>\n",
       "    </tr>\n",
       "    <tr>\n",
       "      <th>Lady</th>\n",
       "      <td>1</td>\n",
       "      <td>0</td>\n",
       "    </tr>\n",
       "    <tr>\n",
       "      <th>Major</th>\n",
       "      <td>0</td>\n",
       "      <td>2</td>\n",
       "    </tr>\n",
       "    <tr>\n",
       "      <th>Master</th>\n",
       "      <td>0</td>\n",
       "      <td>40</td>\n",
       "    </tr>\n",
       "    <tr>\n",
       "      <th>Miss</th>\n",
       "      <td>182</td>\n",
       "      <td>0</td>\n",
       "    </tr>\n",
       "    <tr>\n",
       "      <th>Mlle</th>\n",
       "      <td>2</td>\n",
       "      <td>0</td>\n",
       "    </tr>\n",
       "    <tr>\n",
       "      <th>Mme</th>\n",
       "      <td>1</td>\n",
       "      <td>0</td>\n",
       "    </tr>\n",
       "    <tr>\n",
       "      <th>Mr</th>\n",
       "      <td>0</td>\n",
       "      <td>517</td>\n",
       "    </tr>\n",
       "    <tr>\n",
       "      <th>Mrs</th>\n",
       "      <td>125</td>\n",
       "      <td>0</td>\n",
       "    </tr>\n",
       "    <tr>\n",
       "      <th>Ms</th>\n",
       "      <td>1</td>\n",
       "      <td>0</td>\n",
       "    </tr>\n",
       "    <tr>\n",
       "      <th>Rev</th>\n",
       "      <td>0</td>\n",
       "      <td>6</td>\n",
       "    </tr>\n",
       "    <tr>\n",
       "      <th>Sir</th>\n",
       "      <td>0</td>\n",
       "      <td>1</td>\n",
       "    </tr>\n",
       "  </tbody>\n",
       "</table>\n",
       "</div>"
      ],
      "text/plain": [
       "Sex       female  male\n",
       "Title                 \n",
       "Capt           0     1\n",
       "Col            0     2\n",
       "Countess       1     0\n",
       "Don            0     1\n",
       "Dr             1     6\n",
       "Jonkheer       0     1\n",
       "Lady           1     0\n",
       "Major          0     2\n",
       "Master         0    40\n",
       "Miss         182     0\n",
       "Mlle           2     0\n",
       "Mme            1     0\n",
       "Mr             0   517\n",
       "Mrs          125     0\n",
       "Ms             1     0\n",
       "Rev            0     6\n",
       "Sir            0     1"
      ]
     },
     "execution_count": 940,
     "metadata": {},
     "output_type": "execute_result"
    }
   ],
   "source": [
    "# stvorimo novi stupac Title korištenjem raularnog izraza\n",
    "X['Title'] = X.Name.str.extract(' ([A-Za-z]+)\\.', expand=False)\n",
    "# ispišimo učestalost novog stupca po spolovima\n",
    "pd.crosstab(X['Title'], X['Sex'])"
   ]
  },
  {
   "cell_type": "markdown",
   "id": "225bbe2f",
   "metadata": {},
   "source": [
    "Čini se kako u ovom skupu podataka nema velikih nekonzistentnosti po pitanju unosa titula putnika. Titule Mlle i Ms prebacit ćemo u grupu Miss (ukupno 3 zapisa) i titulu Mme u grupu Mrs (1 zapis).  \n",
    "Titule koji se rijetko pojavljuju možemo sve grupirati u jednu grupu koju ćemo nazvati Rare."
   ]
  },
  {
   "cell_type": "code",
   "execution_count": 941,
   "id": "2d880503",
   "metadata": {},
   "outputs": [],
   "source": [
    "# stovri titulu Rare\n",
    "X['Title'] = X['Title'].replace(['Lady', 'Countess','Capt', 'Col', 'Don', 'Dr', 'Major', 'Rev', 'Sir', 'Jonkheer', 'Dona'], 'Rare')\n",
    "# zamijeni nekonzistentne titule\n",
    "X['Title'] = X['Title'].replace('Mlle', 'Miss')\n",
    "X['Title'] = X['Title'].replace('Ms', 'Miss')\n",
    "X['Title'] = X['Title'].replace('Mme', 'Mrs')"
   ]
  },
  {
   "cell_type": "markdown",
   "id": "253957ea",
   "metadata": {},
   "source": [
    "Prikažimo postotak preživljavanja u ovisnosti o tituli putnika."
   ]
  },
  {
   "cell_type": "code",
   "execution_count": 942,
   "id": "fa0b790d",
   "metadata": {},
   "outputs": [
    {
     "data": {
      "text/html": [
       "<div>\n",
       "<style scoped>\n",
       "    .dataframe tbody tr th:only-of-type {\n",
       "        vertical-align: middle;\n",
       "    }\n",
       "\n",
       "    .dataframe tbody tr th {\n",
       "        vertical-align: top;\n",
       "    }\n",
       "\n",
       "    .dataframe thead th {\n",
       "        text-align: right;\n",
       "    }\n",
       "</style>\n",
       "<table border=\"1\" class=\"dataframe\">\n",
       "  <thead>\n",
       "    <tr style=\"text-align: right;\">\n",
       "      <th></th>\n",
       "      <th>Title</th>\n",
       "      <th>Survived</th>\n",
       "    </tr>\n",
       "  </thead>\n",
       "  <tbody>\n",
       "    <tr>\n",
       "      <th>0</th>\n",
       "      <td>Master</td>\n",
       "      <td>0.575000</td>\n",
       "    </tr>\n",
       "    <tr>\n",
       "      <th>1</th>\n",
       "      <td>Miss</td>\n",
       "      <td>0.702703</td>\n",
       "    </tr>\n",
       "    <tr>\n",
       "      <th>2</th>\n",
       "      <td>Mr</td>\n",
       "      <td>0.156673</td>\n",
       "    </tr>\n",
       "    <tr>\n",
       "      <th>3</th>\n",
       "      <td>Mrs</td>\n",
       "      <td>0.793651</td>\n",
       "    </tr>\n",
       "    <tr>\n",
       "      <th>4</th>\n",
       "      <td>Rare</td>\n",
       "      <td>0.347826</td>\n",
       "    </tr>\n",
       "  </tbody>\n",
       "</table>\n",
       "</div>"
      ],
      "text/plain": [
       "    Title  Survived\n",
       "0  Master  0.575000\n",
       "1    Miss  0.702703\n",
       "2      Mr  0.156673\n",
       "3     Mrs  0.793651\n",
       "4    Rare  0.347826"
      ]
     },
     "execution_count": 942,
     "metadata": {},
     "output_type": "execute_result"
    }
   ],
   "source": [
    "X[['Title', 'Survived']].groupby(['Title'], as_index=False).mean()"
   ]
  },
  {
   "cell_type": "markdown",
   "id": "cd53ba3a",
   "metadata": {},
   "source": [
    "Vidimo kako titula ima velik utjecaj na šansu za preživljavanje, što titulu čini bitnom značajkom za predikciju. Titula je trenutno značajka u obliku teksta. Transformirajmo titulu u numeričku vrijednost kako bismo je mogli koristiti prilikom klasifikacije."
   ]
  },
  {
   "cell_type": "markdown",
   "id": "755dbec9",
   "metadata": {},
   "source": [
    "### Rijetki podatci - OneHotEncoder\n",
    "Titulu kao značajku transformirat ćemo koristeći OneHotEncoder, što će rezultirati s pet novih stupaca (značajki). Za nove stupce vrijedi da će svaki zapis imati samo u jednom od tih pet stupaca vrijednost 1, a u preostala četiri stupca imat će vrijednost 0. Pogledajte primjer niže."
   ]
  },
  {
   "cell_type": "code",
   "execution_count": 943,
   "id": "e7e7b701",
   "metadata": {},
   "outputs": [
    {
     "data": {
      "text/html": [
       "<div>\n",
       "<style scoped>\n",
       "    .dataframe tbody tr th:only-of-type {\n",
       "        vertical-align: middle;\n",
       "    }\n",
       "\n",
       "    .dataframe tbody tr th {\n",
       "        vertical-align: top;\n",
       "    }\n",
       "\n",
       "    .dataframe thead th {\n",
       "        text-align: right;\n",
       "    }\n",
       "</style>\n",
       "<table border=\"1\" class=\"dataframe\">\n",
       "  <thead>\n",
       "    <tr style=\"text-align: right;\">\n",
       "      <th></th>\n",
       "      <th>Title_Master</th>\n",
       "      <th>Title_Miss</th>\n",
       "      <th>Title_Mr</th>\n",
       "      <th>Title_Mrs</th>\n",
       "      <th>Title_Rare</th>\n",
       "    </tr>\n",
       "  </thead>\n",
       "  <tbody>\n",
       "    <tr>\n",
       "      <th>0</th>\n",
       "      <td>0.0</td>\n",
       "      <td>0.0</td>\n",
       "      <td>1.0</td>\n",
       "      <td>0.0</td>\n",
       "      <td>0.0</td>\n",
       "    </tr>\n",
       "    <tr>\n",
       "      <th>1</th>\n",
       "      <td>0.0</td>\n",
       "      <td>0.0</td>\n",
       "      <td>0.0</td>\n",
       "      <td>1.0</td>\n",
       "      <td>0.0</td>\n",
       "    </tr>\n",
       "    <tr>\n",
       "      <th>2</th>\n",
       "      <td>0.0</td>\n",
       "      <td>1.0</td>\n",
       "      <td>0.0</td>\n",
       "      <td>0.0</td>\n",
       "      <td>0.0</td>\n",
       "    </tr>\n",
       "    <tr>\n",
       "      <th>3</th>\n",
       "      <td>0.0</td>\n",
       "      <td>0.0</td>\n",
       "      <td>0.0</td>\n",
       "      <td>1.0</td>\n",
       "      <td>0.0</td>\n",
       "    </tr>\n",
       "    <tr>\n",
       "      <th>4</th>\n",
       "      <td>0.0</td>\n",
       "      <td>0.0</td>\n",
       "      <td>1.0</td>\n",
       "      <td>0.0</td>\n",
       "      <td>0.0</td>\n",
       "    </tr>\n",
       "    <tr>\n",
       "      <th>...</th>\n",
       "      <td>...</td>\n",
       "      <td>...</td>\n",
       "      <td>...</td>\n",
       "      <td>...</td>\n",
       "      <td>...</td>\n",
       "    </tr>\n",
       "    <tr>\n",
       "      <th>886</th>\n",
       "      <td>0.0</td>\n",
       "      <td>0.0</td>\n",
       "      <td>0.0</td>\n",
       "      <td>0.0</td>\n",
       "      <td>1.0</td>\n",
       "    </tr>\n",
       "    <tr>\n",
       "      <th>887</th>\n",
       "      <td>0.0</td>\n",
       "      <td>1.0</td>\n",
       "      <td>0.0</td>\n",
       "      <td>0.0</td>\n",
       "      <td>0.0</td>\n",
       "    </tr>\n",
       "    <tr>\n",
       "      <th>888</th>\n",
       "      <td>0.0</td>\n",
       "      <td>1.0</td>\n",
       "      <td>0.0</td>\n",
       "      <td>0.0</td>\n",
       "      <td>0.0</td>\n",
       "    </tr>\n",
       "    <tr>\n",
       "      <th>889</th>\n",
       "      <td>0.0</td>\n",
       "      <td>0.0</td>\n",
       "      <td>1.0</td>\n",
       "      <td>0.0</td>\n",
       "      <td>0.0</td>\n",
       "    </tr>\n",
       "    <tr>\n",
       "      <th>890</th>\n",
       "      <td>0.0</td>\n",
       "      <td>0.0</td>\n",
       "      <td>1.0</td>\n",
       "      <td>0.0</td>\n",
       "      <td>0.0</td>\n",
       "    </tr>\n",
       "  </tbody>\n",
       "</table>\n",
       "<p>891 rows × 5 columns</p>\n",
       "</div>"
      ],
      "text/plain": [
       "     Title_Master  Title_Miss  Title_Mr  Title_Mrs  Title_Rare\n",
       "0             0.0         0.0       1.0        0.0         0.0\n",
       "1             0.0         0.0       0.0        1.0         0.0\n",
       "2             0.0         1.0       0.0        0.0         0.0\n",
       "3             0.0         0.0       0.0        1.0         0.0\n",
       "4             0.0         0.0       1.0        0.0         0.0\n",
       "..            ...         ...       ...        ...         ...\n",
       "886           0.0         0.0       0.0        0.0         1.0\n",
       "887           0.0         1.0       0.0        0.0         0.0\n",
       "888           0.0         1.0       0.0        0.0         0.0\n",
       "889           0.0         0.0       1.0        0.0         0.0\n",
       "890           0.0         0.0       1.0        0.0         0.0\n",
       "\n",
       "[891 rows x 5 columns]"
      ]
     },
     "execution_count": 943,
     "metadata": {},
     "output_type": "execute_result"
    }
   ],
   "source": [
    "# definiramo enkoder\n",
    "encoder = OneHotEncoder(handle_unknown=\"ignore\")\n",
    "encoder.fit(X[['Title']])\n",
    "# transformiramo podatke\n",
    "X_tmp = encoder.transform(X[['Title']])\n",
    "X_tmp = pd.DataFrame(X_tmp.toarray(), columns=encoder.get_feature_names(['Title']))\n",
    "X_tmp"
   ]
  },
  {
   "cell_type": "markdown",
   "id": "8b88bacf",
   "metadata": {},
   "source": [
    "Spojimo sada dobivenu rijetku tablicu s našom izvornom tablicom i provjerimo popravljaju li nove značajke točnost predikcije."
   ]
  },
  {
   "cell_type": "code",
   "execution_count": 944,
   "id": "11e5cf90",
   "metadata": {},
   "outputs": [
    {
     "name": "stdout",
     "output_type": "stream",
     "text": [
      "Točnost:  0.8182828282828283  +-  0.0684515055449198\n"
     ]
    }
   ],
   "source": [
    "# spoji podatke\n",
    "X = pd.concat((X, X_tmp), axis=1)\n",
    "\n",
    "# izbaci nenumeričke stupce - ~ u ovom slučaju označava \"not\", odnosno uvjet bi se čitao kao \"columns not in ['Name', ...]\"\n",
    "X_tmp = X.loc[:, ~X.columns.isin(['Name','Sex', 'Ticket', 'Cabin', 'Embarked', 'Title'])].copy()\n",
    "\n",
    "# ponovno ubacimo srednju vrijednost godina jer smo je ranije izračunali samo u privremeni DataFrame\n",
    "X_tmp.loc[X_tmp.Age.isna(),'Age'] = X_tmp.loc[:,'Age'].mean()\n",
    "\n",
    "# klasificiraj\n",
    "klasificiraj(X_tmp)"
   ]
  },
  {
   "cell_type": "markdown",
   "id": "8ca16d77",
   "metadata": {},
   "source": [
    "Vidimo kako je ubacivanje titule kao rijetke značajke rezultiralo porastom točnosti modela s 68.8% na 81.8%."
   ]
  },
  {
   "cell_type": "markdown",
   "id": "dba912db",
   "metadata": {},
   "source": [
    "### LabelEncoder\n",
    "Do sada nismo koristili značajku spola jer je u tekstualnom formatu. Promijenimo format značajke koristeči LabelEncoder i ponovimo klasifikaciju."
   ]
  },
  {
   "cell_type": "code",
   "execution_count": 945,
   "id": "c1d0afc6",
   "metadata": {},
   "outputs": [],
   "source": [
    "# inicijalizacija enkodera\n",
    "le = LabelEncoder()\n",
    "le.fit(X.loc[:,'Sex'])\n",
    "\n",
    "X.loc[:,'Sex'] = le.transform(X.loc[:,'Sex'])"
   ]
  },
  {
   "cell_type": "code",
   "execution_count": 946,
   "id": "c40ad35c",
   "metadata": {},
   "outputs": [
    {
     "name": "stdout",
     "output_type": "stream",
     "text": [
      "<class 'pandas.core.frame.DataFrame'>\n",
      "RangeIndex: 891 entries, 0 to 890\n",
      "Data columns (total 17 columns):\n",
      " #   Column        Non-Null Count  Dtype  \n",
      "---  ------        --------------  -----  \n",
      " 0   Survived      891 non-null    int64  \n",
      " 1   Pclass        891 non-null    int64  \n",
      " 2   Name          891 non-null    object \n",
      " 3   Sex           891 non-null    int32  \n",
      " 4   Age           714 non-null    float64\n",
      " 5   SibSp         891 non-null    int64  \n",
      " 6   Parch         891 non-null    int64  \n",
      " 7   Ticket        891 non-null    object \n",
      " 8   Fare          891 non-null    float64\n",
      " 9   Cabin         204 non-null    object \n",
      " 10  Embarked      889 non-null    object \n",
      " 11  Title         891 non-null    object \n",
      " 12  Title_Master  891 non-null    float64\n",
      " 13  Title_Miss    891 non-null    float64\n",
      " 14  Title_Mr      891 non-null    float64\n",
      " 15  Title_Mrs     891 non-null    float64\n",
      " 16  Title_Rare    891 non-null    float64\n",
      "dtypes: float64(7), int32(1), int64(4), object(5)\n",
      "memory usage: 115.0+ KB\n"
     ]
    }
   ],
   "source": [
    "X.info()"
   ]
  },
  {
   "cell_type": "code",
   "execution_count": 947,
   "id": "6ada4630",
   "metadata": {},
   "outputs": [
    {
     "name": "stdout",
     "output_type": "stream",
     "text": [
      "Točnost:  0.8261363636363637  +-  0.06595268789138127\n"
     ]
    }
   ],
   "source": [
    "# izbaci nenumeričke stupce - ~ u ovom slučaju označava \"not\", odnosno uvjet bi se čitao kao \"columns not in ['Name', ...]\"\n",
    "X_tmp = X.loc[:, ~X.columns.isin(['Name', 'Ticket', 'Cabin', 'Embarked', 'Title'])].copy()\n",
    "\n",
    "# ponovno ubacimo srednju vrijednost godina jer smo je ranije izračunali samo u privremeni DataFrame\n",
    "X_tmp.loc[X_tmp.Age.isna(),'Age'] = X_tmp.loc[:,'Age'].mean()\n",
    "    \n",
    "# klasificiraj\n",
    "klasificiraj(X_tmp)"
   ]
  },
  {
   "cell_type": "markdown",
   "id": "ed920afd",
   "metadata": {},
   "source": [
    "Dodavanje spola kao značajke povećalo je točnost modela s 81.8% na 82.6%. To je bilo i očekivano jer je poznato da su se žene prve ukrcavale na čamce za spašavanje. Provjerimo postotak preživljavanja u ovisnosti o spolu."
   ]
  },
  {
   "cell_type": "code",
   "execution_count": 948,
   "id": "8e737b0f",
   "metadata": {},
   "outputs": [
    {
     "data": {
      "text/html": [
       "<div>\n",
       "<style scoped>\n",
       "    .dataframe tbody tr th:only-of-type {\n",
       "        vertical-align: middle;\n",
       "    }\n",
       "\n",
       "    .dataframe tbody tr th {\n",
       "        vertical-align: top;\n",
       "    }\n",
       "\n",
       "    .dataframe thead th {\n",
       "        text-align: right;\n",
       "    }\n",
       "</style>\n",
       "<table border=\"1\" class=\"dataframe\">\n",
       "  <thead>\n",
       "    <tr style=\"text-align: right;\">\n",
       "      <th></th>\n",
       "      <th>Sex</th>\n",
       "      <th>Survived</th>\n",
       "    </tr>\n",
       "  </thead>\n",
       "  <tbody>\n",
       "    <tr>\n",
       "      <th>0</th>\n",
       "      <td>0</td>\n",
       "      <td>0.742038</td>\n",
       "    </tr>\n",
       "    <tr>\n",
       "      <th>1</th>\n",
       "      <td>1</td>\n",
       "      <td>0.188908</td>\n",
       "    </tr>\n",
       "  </tbody>\n",
       "</table>\n",
       "</div>"
      ],
      "text/plain": [
       "   Sex  Survived\n",
       "0    0  0.742038\n",
       "1    1  0.188908"
      ]
     },
     "execution_count": 948,
     "metadata": {},
     "output_type": "execute_result"
    }
   ],
   "source": [
    "X[['Sex', 'Survived']].groupby(['Sex'], as_index=False).mean()"
   ]
  },
  {
   "cell_type": "markdown",
   "id": "4901e340",
   "metadata": {},
   "source": [
    "Vidimo kako spol jako dobro razdvaja preživjele od preminulih.  \n",
    "  \n",
    "Napravimo istu stvar s značajkom Embarked."
   ]
  },
  {
   "cell_type": "code",
   "execution_count": 949,
   "id": "6ee5aced",
   "metadata": {},
   "outputs": [],
   "source": [
    "# izbaci zapise s nedostajućom vrijednosti značajke Embarked\n",
    "X = X.loc[X.Embarked.notnull(), :]\n",
    "\n",
    "# inicijalizacija enkodera\n",
    "le = LabelEncoder()\n",
    "le.fit(X.loc[:,'Embarked'])\n",
    "\n",
    "# transformiraj \n",
    "X.loc[:,'Embarked'] = le.transform(X.loc[:,'Embarked'])"
   ]
  },
  {
   "cell_type": "code",
   "execution_count": 950,
   "id": "752a1d0e",
   "metadata": {},
   "outputs": [
    {
     "data": {
      "text/html": [
       "<div>\n",
       "<style scoped>\n",
       "    .dataframe tbody tr th:only-of-type {\n",
       "        vertical-align: middle;\n",
       "    }\n",
       "\n",
       "    .dataframe tbody tr th {\n",
       "        vertical-align: top;\n",
       "    }\n",
       "\n",
       "    .dataframe thead th {\n",
       "        text-align: right;\n",
       "    }\n",
       "</style>\n",
       "<table border=\"1\" class=\"dataframe\">\n",
       "  <thead>\n",
       "    <tr style=\"text-align: right;\">\n",
       "      <th></th>\n",
       "      <th>Embarked</th>\n",
       "      <th>Survived</th>\n",
       "    </tr>\n",
       "  </thead>\n",
       "  <tbody>\n",
       "    <tr>\n",
       "      <th>0</th>\n",
       "      <td>0</td>\n",
       "      <td>0.553571</td>\n",
       "    </tr>\n",
       "    <tr>\n",
       "      <th>1</th>\n",
       "      <td>1</td>\n",
       "      <td>0.389610</td>\n",
       "    </tr>\n",
       "    <tr>\n",
       "      <th>2</th>\n",
       "      <td>2</td>\n",
       "      <td>0.336957</td>\n",
       "    </tr>\n",
       "  </tbody>\n",
       "</table>\n",
       "</div>"
      ],
      "text/plain": [
       "   Embarked  Survived\n",
       "0         0  0.553571\n",
       "1         1  0.389610\n",
       "2         2  0.336957"
      ]
     },
     "execution_count": 950,
     "metadata": {},
     "output_type": "execute_result"
    }
   ],
   "source": [
    "X[['Embarked', 'Survived']].groupby(['Embarked'], as_index=False).mean()"
   ]
  },
  {
   "cell_type": "code",
   "execution_count": 951,
   "id": "b7b07026",
   "metadata": {},
   "outputs": [
    {
     "name": "stdout",
     "output_type": "stream",
     "text": [
      "Točnost:  0.8133585858585859  +-  0.05677191719127784\n"
     ]
    }
   ],
   "source": [
    "# izbaci nenumeričke stupce - ~ u ovom slučaju označava \"not\", odnosno uvjet bi se čitao kao \"columns not in ['Name', ...]\"\n",
    "X_tmp = X.loc[:, ~X.columns.isin(['Name', 'Ticket', 'Cabin', 'Title'])].copy()\n",
    "\n",
    "# ponovno ubacimo srednju vrijednost godina jer smo je ranije izračunali samo u privremeni DataFrame\n",
    "X_tmp.loc[X_tmp.Age.isna(),'Age'] = X_tmp.loc[:,'Age'].mean()\n",
    "    \n",
    "# klasificiraj\n",
    "klasificiraj(X_tmp)"
   ]
  },
  {
   "cell_type": "markdown",
   "id": "7ca953a3",
   "metadata": {},
   "source": [
    "Sada imamo smanjenje točnosti iako vjerojatnost preživljavanja ovisi o značajci Embarked. Unatoč tome, značajku Embarked emoostavit ćemo u skupu podataka. Za sada nam je cilj kreirati čim više dobrih značajki, a u kasnijim fazama se može provoditi selekcija značajki ako se za time pokaže potreba."
   ]
  },
  {
   "cell_type": "markdown",
   "id": "1e0cb04f",
   "metadata": {},
   "source": [
    "Razmislimo ponovno o načinu na koji smo popunili nedostajuće vrijednosti za značajku dobi. Sada kada imamo lako dostupan podatak o tituli osobe, možemo pokušati pametnije popuniti nedostajuće vrijednosti dobi. Primjerice, očekivano je da će prosječna dob osobe s titulom Miss biti manja od prosječne dobi osobne s titulom Mrs. Provjerimo."
   ]
  },
  {
   "cell_type": "code",
   "execution_count": 952,
   "id": "1b0ed383",
   "metadata": {},
   "outputs": [
    {
     "data": {
      "text/html": [
       "<div>\n",
       "<style scoped>\n",
       "    .dataframe tbody tr th:only-of-type {\n",
       "        vertical-align: middle;\n",
       "    }\n",
       "\n",
       "    .dataframe tbody tr th {\n",
       "        vertical-align: top;\n",
       "    }\n",
       "\n",
       "    .dataframe thead th {\n",
       "        text-align: right;\n",
       "    }\n",
       "</style>\n",
       "<table border=\"1\" class=\"dataframe\">\n",
       "  <thead>\n",
       "    <tr style=\"text-align: right;\">\n",
       "      <th></th>\n",
       "      <th>Title</th>\n",
       "      <th>Age</th>\n",
       "    </tr>\n",
       "  </thead>\n",
       "  <tbody>\n",
       "    <tr>\n",
       "      <th>0</th>\n",
       "      <td>Master</td>\n",
       "      <td>4.574167</td>\n",
       "    </tr>\n",
       "    <tr>\n",
       "      <th>1</th>\n",
       "      <td>Miss</td>\n",
       "      <td>21.736486</td>\n",
       "    </tr>\n",
       "    <tr>\n",
       "      <th>2</th>\n",
       "      <td>Mr</td>\n",
       "      <td>32.368090</td>\n",
       "    </tr>\n",
       "    <tr>\n",
       "      <th>3</th>\n",
       "      <td>Mrs</td>\n",
       "      <td>35.546296</td>\n",
       "    </tr>\n",
       "    <tr>\n",
       "      <th>4</th>\n",
       "      <td>Rare</td>\n",
       "      <td>45.545455</td>\n",
       "    </tr>\n",
       "  </tbody>\n",
       "</table>\n",
       "</div>"
      ],
      "text/plain": [
       "    Title        Age\n",
       "0  Master   4.574167\n",
       "1    Miss  21.736486\n",
       "2      Mr  32.368090\n",
       "3     Mrs  35.546296\n",
       "4    Rare  45.545455"
      ]
     },
     "execution_count": 952,
     "metadata": {},
     "output_type": "execute_result"
    }
   ],
   "source": [
    "title_age = X[['Title', 'Age']].groupby(['Title'], as_index=False).mean()\n",
    "title_age"
   ]
  },
  {
   "cell_type": "markdown",
   "id": "6e5634aa",
   "metadata": {},
   "source": [
    "Popunimo nedostajuće vrijednosti dobi u odnosu na titulu putnika te provjerimo dovodi li to do dodatnog poboljšanja točnosti modela."
   ]
  },
  {
   "cell_type": "code",
   "execution_count": 953,
   "id": "e485a9b2",
   "metadata": {},
   "outputs": [
    {
     "name": "stdout",
     "output_type": "stream",
     "text": [
      "Točnost:  0.814570707070707  +-  0.06399176749003999\n"
     ]
    }
   ],
   "source": [
    "# izbaci nenumeričke stupce - ~ u ovom slučaju označava \"not\", odnosno uvjet bi se čitao kao \"columns not in ['Name', ...]\"\n",
    "X_tmp = X.loc[:, ~X.columns.isin(['PassengerId', 'Name','Sex', 'Ticket', 'Cabin', 'Embarked', 'Title'])].copy()\n",
    "\n",
    "# popunjavanje nedostajućih vrijednosti\n",
    "def popuni_nedostajucu_dob(X_tmp):\n",
    "    mask = (X_tmp.Title_Master == 1) & (X_tmp.Age.isna())\n",
    "    X_tmp.loc[mask, 'Age'] = title_age.loc[title_age.Title == 'Master', 'Age'].values[0]\n",
    "    mask = (X_tmp.Title_Miss == 1) & (X_tmp.Age.isna())\n",
    "    X_tmp.loc[mask, 'Age'] = title_age.loc[title_age.Title == 'Miss', 'Age'].values[0]\n",
    "    mask = (X_tmp.Title_Mr == 1) & (X_tmp.Age.isna())\n",
    "    X_tmp.loc[mask, 'Age'] = title_age.loc[title_age.Title == 'Mr', 'Age'].values[0]\n",
    "    mask = (X_tmp.Title_Mrs == 1) & (X_tmp.Age.isna())\n",
    "    X_tmp.loc[mask, 'Age'] = title_age.loc[title_age.Title == 'Mrs', 'Age'].values[0]\n",
    "    mask = (X_tmp.Title_Rare == 1) & (X_tmp.Age.isna())\n",
    "    X_tmp.loc[mask, 'Age'] = title_age.loc[title_age.Title == 'Rare', 'Age'].values[0]\n",
    "    return X_tmp\n",
    "\n",
    "X_tmp = popuni_nedostajucu_dob(X_tmp)\n",
    "    \n",
    "# klasificiraj\n",
    "klasificiraj(X_tmp)"
   ]
  },
  {
   "cell_type": "markdown",
   "id": "6af96888",
   "metadata": {},
   "source": [
    "### Inženjerstvo značajki\n",
    "Inženjerstvo značajki je proces kojim se korištenjem znanja o nekoj domeni nastoje odabrati ili transformirati najbitnije varijable (značajke) iz pripremljenog skupa podataka s ciljem uspješnog modeliranja.  \n",
    "Postupak koji smo ranije proveli za dobivanje titule putnika kao značajke mogao bi se smatrati inženjerstvom značajki. U nastavku ćemo pokazati još nekoliko primjera.  \n",
    "  \n",
    "Napravimo novu značajku koja će diskretizirati dob u pet kategorija - AgeBand"
   ]
  },
  {
   "cell_type": "code",
   "execution_count": 954,
   "id": "157c0f76",
   "metadata": {},
   "outputs": [
    {
     "data": {
      "text/html": [
       "<div>\n",
       "<style scoped>\n",
       "    .dataframe tbody tr th:only-of-type {\n",
       "        vertical-align: middle;\n",
       "    }\n",
       "\n",
       "    .dataframe tbody tr th {\n",
       "        vertical-align: top;\n",
       "    }\n",
       "\n",
       "    .dataframe thead th {\n",
       "        text-align: right;\n",
       "    }\n",
       "</style>\n",
       "<table border=\"1\" class=\"dataframe\">\n",
       "  <thead>\n",
       "    <tr style=\"text-align: right;\">\n",
       "      <th></th>\n",
       "      <th>AgeBand</th>\n",
       "      <th>Survived</th>\n",
       "    </tr>\n",
       "  </thead>\n",
       "  <tbody>\n",
       "    <tr>\n",
       "      <th>0</th>\n",
       "      <td>(0.34, 16.336]</td>\n",
       "      <td>0.548077</td>\n",
       "    </tr>\n",
       "    <tr>\n",
       "      <th>1</th>\n",
       "      <td>(16.336, 32.252]</td>\n",
       "      <td>0.392670</td>\n",
       "    </tr>\n",
       "    <tr>\n",
       "      <th>2</th>\n",
       "      <td>(32.252, 48.168]</td>\n",
       "      <td>0.317901</td>\n",
       "    </tr>\n",
       "    <tr>\n",
       "      <th>3</th>\n",
       "      <td>(48.168, 64.084]</td>\n",
       "      <td>0.426471</td>\n",
       "    </tr>\n",
       "    <tr>\n",
       "      <th>4</th>\n",
       "      <td>(64.084, 80.0]</td>\n",
       "      <td>0.090909</td>\n",
       "    </tr>\n",
       "  </tbody>\n",
       "</table>\n",
       "</div>"
      ],
      "text/plain": [
       "            AgeBand  Survived\n",
       "0    (0.34, 16.336]  0.548077\n",
       "1  (16.336, 32.252]  0.392670\n",
       "2  (32.252, 48.168]  0.317901\n",
       "3  (48.168, 64.084]  0.426471\n",
       "4    (64.084, 80.0]  0.090909"
      ]
     },
     "execution_count": 954,
     "metadata": {},
     "output_type": "execute_result"
    }
   ],
   "source": [
    "# popuni nedostajuću dob\n",
    "X_tmp = popuni_nedostajucu_dob(X)\n",
    "\n",
    "# stvorimo AgeBand\n",
    "X_tmp['AgeBand'] = pd.cut(X_tmp['Age'], 5)\n",
    "# prikažimo ovisnost s preživljavanjem\n",
    "X_tmp[['AgeBand', 'Survived']].groupby(['AgeBand'], as_index=False).mean().sort_values(by='AgeBand', ascending=True)"
   ]
  },
  {
   "cell_type": "code",
   "execution_count": 955,
   "id": "5e9470c7",
   "metadata": {},
   "outputs": [],
   "source": [
    "# primijenimo label enkoder za AgeBand\n",
    "le = LabelEncoder()\n",
    "le.fit(X.loc[:,'AgeBand'])\n",
    "\n",
    "# transformiraj \n",
    "X.loc[:,'AgeBand'] = le.transform(X.loc[:,'AgeBand'])"
   ]
  },
  {
   "cell_type": "markdown",
   "id": "fc68d934",
   "metadata": {},
   "source": [
    "Koristeći značajku AgeBand kreirat ćemo novu umjetnu značajku Age*Pclass"
   ]
  },
  {
   "cell_type": "code",
   "execution_count": 956,
   "id": "04cf660e",
   "metadata": {},
   "outputs": [
    {
     "data": {
      "text/html": [
       "<div>\n",
       "<style scoped>\n",
       "    .dataframe tbody tr th:only-of-type {\n",
       "        vertical-align: middle;\n",
       "    }\n",
       "\n",
       "    .dataframe tbody tr th {\n",
       "        vertical-align: top;\n",
       "    }\n",
       "\n",
       "    .dataframe thead th {\n",
       "        text-align: right;\n",
       "    }\n",
       "</style>\n",
       "<table border=\"1\" class=\"dataframe\">\n",
       "  <thead>\n",
       "    <tr style=\"text-align: right;\">\n",
       "      <th></th>\n",
       "      <th>Age*Pclass</th>\n",
       "      <th>Survived</th>\n",
       "    </tr>\n",
       "  </thead>\n",
       "  <tbody>\n",
       "    <tr>\n",
       "      <th>0</th>\n",
       "      <td>0</td>\n",
       "      <td>0.548077</td>\n",
       "    </tr>\n",
       "    <tr>\n",
       "      <th>1</th>\n",
       "      <td>1</td>\n",
       "      <td>0.733333</td>\n",
       "    </tr>\n",
       "    <tr>\n",
       "      <th>2</th>\n",
       "      <td>2</td>\n",
       "      <td>0.530055</td>\n",
       "    </tr>\n",
       "    <tr>\n",
       "      <th>3</th>\n",
       "      <td>3</td>\n",
       "      <td>0.323741</td>\n",
       "    </tr>\n",
       "    <tr>\n",
       "      <th>4</th>\n",
       "      <td>4</td>\n",
       "      <td>0.390625</td>\n",
       "    </tr>\n",
       "    <tr>\n",
       "      <th>5</th>\n",
       "      <td>6</td>\n",
       "      <td>0.139785</td>\n",
       "    </tr>\n",
       "    <tr>\n",
       "      <th>6</th>\n",
       "      <td>8</td>\n",
       "      <td>0.000000</td>\n",
       "    </tr>\n",
       "    <tr>\n",
       "      <th>7</th>\n",
       "      <td>9</td>\n",
       "      <td>0.111111</td>\n",
       "    </tr>\n",
       "    <tr>\n",
       "      <th>8</th>\n",
       "      <td>12</td>\n",
       "      <td>0.000000</td>\n",
       "    </tr>\n",
       "  </tbody>\n",
       "</table>\n",
       "</div>"
      ],
      "text/plain": [
       "   Age*Pclass  Survived\n",
       "0           0  0.548077\n",
       "1           1  0.733333\n",
       "2           2  0.530055\n",
       "3           3  0.323741\n",
       "4           4  0.390625\n",
       "5           6  0.139785\n",
       "6           8  0.000000\n",
       "7           9  0.111111\n",
       "8          12  0.000000"
      ]
     },
     "execution_count": 956,
     "metadata": {},
     "output_type": "execute_result"
    }
   ],
   "source": [
    "X['Age*Pclass'] = X.AgeBand * X.Pclass\n",
    "\n",
    "X[['Age*Pclass', 'Survived']].groupby(['Age*Pclass'], as_index=False).mean().sort_values(by='Age*Pclass', ascending=True)"
   ]
  },
  {
   "cell_type": "markdown",
   "id": "ce18dca2",
   "metadata": {},
   "source": [
    "Sada ćemo stvoriti novu značajku FamilySize koja će biti zbroj SibSp i Parch uvećano za 1 (uključujući tu osobu)"
   ]
  },
  {
   "cell_type": "code",
   "execution_count": 957,
   "id": "10334c43",
   "metadata": {},
   "outputs": [
    {
     "data": {
      "text/html": [
       "<div>\n",
       "<style scoped>\n",
       "    .dataframe tbody tr th:only-of-type {\n",
       "        vertical-align: middle;\n",
       "    }\n",
       "\n",
       "    .dataframe tbody tr th {\n",
       "        vertical-align: top;\n",
       "    }\n",
       "\n",
       "    .dataframe thead th {\n",
       "        text-align: right;\n",
       "    }\n",
       "</style>\n",
       "<table border=\"1\" class=\"dataframe\">\n",
       "  <thead>\n",
       "    <tr style=\"text-align: right;\">\n",
       "      <th></th>\n",
       "      <th>FamilySize</th>\n",
       "      <th>Survived</th>\n",
       "    </tr>\n",
       "  </thead>\n",
       "  <tbody>\n",
       "    <tr>\n",
       "      <th>0</th>\n",
       "      <td>1</td>\n",
       "      <td>0.300935</td>\n",
       "    </tr>\n",
       "    <tr>\n",
       "      <th>1</th>\n",
       "      <td>2</td>\n",
       "      <td>0.552795</td>\n",
       "    </tr>\n",
       "    <tr>\n",
       "      <th>2</th>\n",
       "      <td>3</td>\n",
       "      <td>0.578431</td>\n",
       "    </tr>\n",
       "    <tr>\n",
       "      <th>3</th>\n",
       "      <td>4</td>\n",
       "      <td>0.724138</td>\n",
       "    </tr>\n",
       "    <tr>\n",
       "      <th>4</th>\n",
       "      <td>5</td>\n",
       "      <td>0.200000</td>\n",
       "    </tr>\n",
       "    <tr>\n",
       "      <th>5</th>\n",
       "      <td>6</td>\n",
       "      <td>0.136364</td>\n",
       "    </tr>\n",
       "    <tr>\n",
       "      <th>6</th>\n",
       "      <td>7</td>\n",
       "      <td>0.333333</td>\n",
       "    </tr>\n",
       "    <tr>\n",
       "      <th>7</th>\n",
       "      <td>8</td>\n",
       "      <td>0.000000</td>\n",
       "    </tr>\n",
       "    <tr>\n",
       "      <th>8</th>\n",
       "      <td>11</td>\n",
       "      <td>0.000000</td>\n",
       "    </tr>\n",
       "  </tbody>\n",
       "</table>\n",
       "</div>"
      ],
      "text/plain": [
       "   FamilySize  Survived\n",
       "0           1  0.300935\n",
       "1           2  0.552795\n",
       "2           3  0.578431\n",
       "3           4  0.724138\n",
       "4           5  0.200000\n",
       "5           6  0.136364\n",
       "6           7  0.333333\n",
       "7           8  0.000000\n",
       "8          11  0.000000"
      ]
     },
     "execution_count": 957,
     "metadata": {},
     "output_type": "execute_result"
    }
   ],
   "source": [
    "# stvorimo novu značajku\n",
    "X['FamilySize'] = X['SibSp'] + X['Parch'] + 1\n",
    "\n",
    "# ovisnost preživljavanja o novoj značajci\n",
    "X[['FamilySize', 'Survived']].groupby(['FamilySize'], as_index=False).mean().sort_values(by='FamilySize', ascending=True)"
   ]
  },
  {
   "cell_type": "markdown",
   "id": "d4dade2a",
   "metadata": {},
   "source": [
    "Koristeći novu značajku FamilySize možemo kreirati još jednu novu značajku IsAlone."
   ]
  },
  {
   "cell_type": "code",
   "execution_count": 958,
   "id": "cbcb18b3",
   "metadata": {},
   "outputs": [
    {
     "data": {
      "text/html": [
       "<div>\n",
       "<style scoped>\n",
       "    .dataframe tbody tr th:only-of-type {\n",
       "        vertical-align: middle;\n",
       "    }\n",
       "\n",
       "    .dataframe tbody tr th {\n",
       "        vertical-align: top;\n",
       "    }\n",
       "\n",
       "    .dataframe thead th {\n",
       "        text-align: right;\n",
       "    }\n",
       "</style>\n",
       "<table border=\"1\" class=\"dataframe\">\n",
       "  <thead>\n",
       "    <tr style=\"text-align: right;\">\n",
       "      <th></th>\n",
       "      <th>IsAlone</th>\n",
       "      <th>Survived</th>\n",
       "    </tr>\n",
       "  </thead>\n",
       "  <tbody>\n",
       "    <tr>\n",
       "      <th>0</th>\n",
       "      <td>0</td>\n",
       "      <td>0.505650</td>\n",
       "    </tr>\n",
       "    <tr>\n",
       "      <th>1</th>\n",
       "      <td>1</td>\n",
       "      <td>0.300935</td>\n",
       "    </tr>\n",
       "  </tbody>\n",
       "</table>\n",
       "</div>"
      ],
      "text/plain": [
       "   IsAlone  Survived\n",
       "0        0  0.505650\n",
       "1        1  0.300935"
      ]
     },
     "execution_count": 958,
     "metadata": {},
     "output_type": "execute_result"
    }
   ],
   "source": [
    "# stvorimo novu značajku\n",
    "X['IsAlone'] = 0\n",
    "X.loc[X.loc[:,'FamilySize'] == 1, 'IsAlone'] = 1\n",
    "\n",
    "# ovisnost preživljavanja o novoj značajci\n",
    "X[['IsAlone', 'Survived']].groupby(['IsAlone'], as_index=False).mean().sort_values(by='IsAlone', ascending=True)"
   ]
  },
  {
   "cell_type": "code",
   "execution_count": 961,
   "id": "69317a01",
   "metadata": {},
   "outputs": [
    {
     "name": "stdout",
     "output_type": "stream",
     "text": [
      "Točnost:  0.8156818181818182  +-  0.06872742322532945\n"
     ]
    }
   ],
   "source": [
    "# izbaci nenumeričke stupce - ~ u ovom slučaju označava \"not\", odnosno uvjet bi se čitao kao \"columns not in ['Name', ...]\"\n",
    "X_tmp = X.loc[:, ~X.columns.isin(['PassengerId', 'Name','Sex', 'Ticket', 'Cabin', 'Embarked', 'Title'])].copy()\n",
    "\n",
    "# klasificiraj\n",
    "klasificiraj(X_tmp)"
   ]
  },
  {
   "cell_type": "markdown",
   "id": "b467d813",
   "metadata": {},
   "source": [
    "Provjerimo sada korelacije među značajkama. Napomena: prikaz matrice korelacija puno je bolji koristeći heatmap funkcije, no ovdje to nećemo koristiti jer je to tema sljedeće vježbe."
   ]
  },
  {
   "cell_type": "code",
   "execution_count": 959,
   "id": "1a0be5e8",
   "metadata": {
    "scrolled": false
   },
   "outputs": [
    {
     "data": {
      "text/html": [
       "<div>\n",
       "<style scoped>\n",
       "    .dataframe tbody tr th:only-of-type {\n",
       "        vertical-align: middle;\n",
       "    }\n",
       "\n",
       "    .dataframe tbody tr th {\n",
       "        vertical-align: top;\n",
       "    }\n",
       "\n",
       "    .dataframe thead th {\n",
       "        text-align: right;\n",
       "    }\n",
       "</style>\n",
       "<table border=\"1\" class=\"dataframe\">\n",
       "  <thead>\n",
       "    <tr style=\"text-align: right;\">\n",
       "      <th></th>\n",
       "      <th>Survived</th>\n",
       "      <th>Pclass</th>\n",
       "      <th>Sex</th>\n",
       "      <th>Age</th>\n",
       "      <th>SibSp</th>\n",
       "      <th>Parch</th>\n",
       "      <th>Fare</th>\n",
       "      <th>Embarked</th>\n",
       "      <th>Title_Master</th>\n",
       "      <th>Title_Miss</th>\n",
       "      <th>Title_Mr</th>\n",
       "      <th>Title_Mrs</th>\n",
       "      <th>Title_Rare</th>\n",
       "      <th>AgeBand</th>\n",
       "      <th>Age*Pclass</th>\n",
       "      <th>FamilySize</th>\n",
       "      <th>IsAlone</th>\n",
       "    </tr>\n",
       "  </thead>\n",
       "  <tbody>\n",
       "    <tr>\n",
       "      <th>Survived</th>\n",
       "      <td>1.000000</td>\n",
       "      <td>-0.335549</td>\n",
       "      <td>-0.541585</td>\n",
       "      <td>-0.094724</td>\n",
       "      <td>-0.034040</td>\n",
       "      <td>0.083151</td>\n",
       "      <td>0.255290</td>\n",
       "      <td>-0.169718</td>\n",
       "      <td>0.085998</td>\n",
       "      <td>0.334953</td>\n",
       "      <td>-0.547689</td>\n",
       "      <td>0.340870</td>\n",
       "      <td>-0.011611</td>\n",
       "      <td>-0.114969</td>\n",
       "      <td>-0.322618</td>\n",
       "      <td>0.018277</td>\n",
       "      <td>-0.206207</td>\n",
       "    </tr>\n",
       "    <tr>\n",
       "      <th>Pclass</th>\n",
       "      <td>-0.335549</td>\n",
       "      <td>1.000000</td>\n",
       "      <td>0.127741</td>\n",
       "      <td>-0.340679</td>\n",
       "      <td>0.081656</td>\n",
       "      <td>0.016824</td>\n",
       "      <td>-0.548193</td>\n",
       "      <td>0.164681</td>\n",
       "      <td>0.081547</td>\n",
       "      <td>-0.007761</td>\n",
       "      <td>0.139156</td>\n",
       "      <td>-0.151078</td>\n",
       "      <td>-0.188273</td>\n",
       "      <td>-0.303354</td>\n",
       "      <td>0.378862</td>\n",
       "      <td>0.064221</td>\n",
       "      <td>0.138553</td>\n",
       "    </tr>\n",
       "    <tr>\n",
       "      <th>Sex</th>\n",
       "      <td>-0.541585</td>\n",
       "      <td>0.127741</td>\n",
       "      <td>1.000000</td>\n",
       "      <td>0.123741</td>\n",
       "      <td>-0.116348</td>\n",
       "      <td>-0.247508</td>\n",
       "      <td>-0.179958</td>\n",
       "      <td>0.110320</td>\n",
       "      <td>0.159612</td>\n",
       "      <td>-0.694744</td>\n",
       "      <td>0.866888</td>\n",
       "      <td>-0.550071</td>\n",
       "      <td>0.075300</td>\n",
       "      <td>0.155596</td>\n",
       "      <td>0.232564</td>\n",
       "      <td>-0.203191</td>\n",
       "      <td>0.306985</td>\n",
       "    </tr>\n",
       "    <tr>\n",
       "      <th>Age</th>\n",
       "      <td>-0.094724</td>\n",
       "      <td>-0.340679</td>\n",
       "      <td>0.123741</td>\n",
       "      <td>1.000000</td>\n",
       "      <td>-0.267239</td>\n",
       "      <td>-0.195976</td>\n",
       "      <td>0.088094</td>\n",
       "      <td>-0.026133</td>\n",
       "      <td>-0.412006</td>\n",
       "      <td>-0.307473</td>\n",
       "      <td>0.237141</td>\n",
       "      <td>0.178464</td>\n",
       "      <td>0.194984</td>\n",
       "      <td>0.930825</td>\n",
       "      <td>0.607464</td>\n",
       "      <td>-0.280584</td>\n",
       "      <td>0.194706</td>\n",
       "    </tr>\n",
       "    <tr>\n",
       "      <th>SibSp</th>\n",
       "      <td>-0.034040</td>\n",
       "      <td>0.081656</td>\n",
       "      <td>-0.116348</td>\n",
       "      <td>-0.267239</td>\n",
       "      <td>1.000000</td>\n",
       "      <td>0.414542</td>\n",
       "      <td>0.160887</td>\n",
       "      <td>0.068900</td>\n",
       "      <td>0.349434</td>\n",
       "      <td>0.084446</td>\n",
       "      <td>-0.252201</td>\n",
       "      <td>0.063003</td>\n",
       "      <td>-0.026055</td>\n",
       "      <td>-0.254518</td>\n",
       "      <td>-0.239510</td>\n",
       "      <td>0.890654</td>\n",
       "      <td>-0.584186</td>\n",
       "    </tr>\n",
       "    <tr>\n",
       "      <th>Parch</th>\n",
       "      <td>0.083151</td>\n",
       "      <td>0.016824</td>\n",
       "      <td>-0.247508</td>\n",
       "      <td>-0.195976</td>\n",
       "      <td>0.414542</td>\n",
       "      <td>1.000000</td>\n",
       "      <td>0.217532</td>\n",
       "      <td>0.040449</td>\n",
       "      <td>0.267194</td>\n",
       "      <td>0.102026</td>\n",
       "      <td>-0.335765</td>\n",
       "      <td>0.225519</td>\n",
       "      <td>-0.059725</td>\n",
       "      <td>-0.200341</td>\n",
       "      <td>-0.180098</td>\n",
       "      <td>0.782988</td>\n",
       "      <td>-0.583112</td>\n",
       "    </tr>\n",
       "    <tr>\n",
       "      <th>Fare</th>\n",
       "      <td>0.255290</td>\n",
       "      <td>-0.548193</td>\n",
       "      <td>-0.179958</td>\n",
       "      <td>0.088094</td>\n",
       "      <td>0.160887</td>\n",
       "      <td>0.217532</td>\n",
       "      <td>1.000000</td>\n",
       "      <td>-0.226311</td>\n",
       "      <td>0.011390</td>\n",
       "      <td>0.118352</td>\n",
       "      <td>-0.181692</td>\n",
       "      <td>0.105511</td>\n",
       "      <td>0.016645</td>\n",
       "      <td>0.080627</td>\n",
       "      <td>-0.276558</td>\n",
       "      <td>0.218658</td>\n",
       "      <td>-0.274079</td>\n",
       "    </tr>\n",
       "    <tr>\n",
       "      <th>Embarked</th>\n",
       "      <td>-0.169718</td>\n",
       "      <td>0.164681</td>\n",
       "      <td>0.110320</td>\n",
       "      <td>-0.026133</td>\n",
       "      <td>0.068900</td>\n",
       "      <td>0.040449</td>\n",
       "      <td>-0.226311</td>\n",
       "      <td>1.000000</td>\n",
       "      <td>0.031413</td>\n",
       "      <td>-0.096519</td>\n",
       "      <td>0.101336</td>\n",
       "      <td>-0.036499</td>\n",
       "      <td>-0.029671</td>\n",
       "      <td>-0.049476</td>\n",
       "      <td>0.078341</td>\n",
       "      <td>0.067305</td>\n",
       "      <td>0.062532</td>\n",
       "    </tr>\n",
       "    <tr>\n",
       "      <th>Title_Master</th>\n",
       "      <td>0.085998</td>\n",
       "      <td>0.081547</td>\n",
       "      <td>0.159612</td>\n",
       "      <td>-0.412006</td>\n",
       "      <td>0.349434</td>\n",
       "      <td>0.267194</td>\n",
       "      <td>0.011390</td>\n",
       "      <td>0.031413</td>\n",
       "      <td>1.000000</td>\n",
       "      <td>-0.110890</td>\n",
       "      <td>-0.255888</td>\n",
       "      <td>-0.087798</td>\n",
       "      <td>-0.035374</td>\n",
       "      <td>-0.371027</td>\n",
       "      <td>-0.330774</td>\n",
       "      <td>0.372350</td>\n",
       "      <td>-0.266840</td>\n",
       "    </tr>\n",
       "    <tr>\n",
       "      <th>Title_Miss</th>\n",
       "      <td>0.334953</td>\n",
       "      <td>-0.007761</td>\n",
       "      <td>-0.694744</td>\n",
       "      <td>-0.307473</td>\n",
       "      <td>0.084446</td>\n",
       "      <td>0.102026</td>\n",
       "      <td>0.118352</td>\n",
       "      <td>-0.096519</td>\n",
       "      <td>-0.110890</td>\n",
       "      <td>1.000000</td>\n",
       "      <td>-0.602266</td>\n",
       "      <td>-0.206644</td>\n",
       "      <td>-0.083257</td>\n",
       "      <td>-0.315325</td>\n",
       "      <td>-0.303750</td>\n",
       "      <td>0.108698</td>\n",
       "      <td>-0.049521</td>\n",
       "    </tr>\n",
       "    <tr>\n",
       "      <th>Title_Mr</th>\n",
       "      <td>-0.547689</td>\n",
       "      <td>0.139156</td>\n",
       "      <td>0.866888</td>\n",
       "      <td>0.237141</td>\n",
       "      <td>-0.252201</td>\n",
       "      <td>-0.335765</td>\n",
       "      <td>-0.181692</td>\n",
       "      <td>0.101336</td>\n",
       "      <td>-0.255888</td>\n",
       "      <td>-0.602266</td>\n",
       "      <td>1.000000</td>\n",
       "      <td>-0.476850</td>\n",
       "      <td>-0.192123</td>\n",
       "      <td>0.256970</td>\n",
       "      <td>0.361994</td>\n",
       "      <td>-0.340148</td>\n",
       "      <td>0.399987</td>\n",
       "    </tr>\n",
       "    <tr>\n",
       "      <th>Title_Mrs</th>\n",
       "      <td>0.340870</td>\n",
       "      <td>-0.151078</td>\n",
       "      <td>-0.550071</td>\n",
       "      <td>0.178464</td>\n",
       "      <td>0.063003</td>\n",
       "      <td>0.225519</td>\n",
       "      <td>0.105511</td>\n",
       "      <td>-0.036499</td>\n",
       "      <td>-0.087798</td>\n",
       "      <td>-0.206644</td>\n",
       "      <td>-0.476850</td>\n",
       "      <td>1.000000</td>\n",
       "      <td>-0.065919</td>\n",
       "      <td>0.143532</td>\n",
       "      <td>0.038401</td>\n",
       "      <td>0.155742</td>\n",
       "      <td>-0.365054</td>\n",
       "    </tr>\n",
       "    <tr>\n",
       "      <th>Title_Rare</th>\n",
       "      <td>-0.011611</td>\n",
       "      <td>-0.188273</td>\n",
       "      <td>0.075300</td>\n",
       "      <td>0.194984</td>\n",
       "      <td>-0.026055</td>\n",
       "      <td>-0.059725</td>\n",
       "      <td>0.016645</td>\n",
       "      <td>-0.029671</td>\n",
       "      <td>-0.035374</td>\n",
       "      <td>-0.083257</td>\n",
       "      <td>-0.192123</td>\n",
       "      <td>-0.065919</td>\n",
       "      <td>1.000000</td>\n",
       "      <td>0.176388</td>\n",
       "      <td>-0.001859</td>\n",
       "      <td>-0.047650</td>\n",
       "      <td>0.031245</td>\n",
       "    </tr>\n",
       "    <tr>\n",
       "      <th>AgeBand</th>\n",
       "      <td>-0.114969</td>\n",
       "      <td>-0.303354</td>\n",
       "      <td>0.155596</td>\n",
       "      <td>0.930825</td>\n",
       "      <td>-0.254518</td>\n",
       "      <td>-0.200341</td>\n",
       "      <td>0.080627</td>\n",
       "      <td>-0.049476</td>\n",
       "      <td>-0.371027</td>\n",
       "      <td>-0.315325</td>\n",
       "      <td>0.256970</td>\n",
       "      <td>0.143532</td>\n",
       "      <td>0.176388</td>\n",
       "      <td>1.000000</td>\n",
       "      <td>0.705213</td>\n",
       "      <td>-0.274069</td>\n",
       "      <td>0.201913</td>\n",
       "    </tr>\n",
       "    <tr>\n",
       "      <th>Age*Pclass</th>\n",
       "      <td>-0.322618</td>\n",
       "      <td>0.378862</td>\n",
       "      <td>0.232564</td>\n",
       "      <td>0.607464</td>\n",
       "      <td>-0.239510</td>\n",
       "      <td>-0.180098</td>\n",
       "      <td>-0.276558</td>\n",
       "      <td>0.078341</td>\n",
       "      <td>-0.330774</td>\n",
       "      <td>-0.303750</td>\n",
       "      <td>0.361994</td>\n",
       "      <td>0.038401</td>\n",
       "      <td>-0.001859</td>\n",
       "      <td>0.705213</td>\n",
       "      <td>1.000000</td>\n",
       "      <td>-0.253696</td>\n",
       "      <td>0.308512</td>\n",
       "    </tr>\n",
       "    <tr>\n",
       "      <th>FamilySize</th>\n",
       "      <td>0.018277</td>\n",
       "      <td>0.064221</td>\n",
       "      <td>-0.203191</td>\n",
       "      <td>-0.280584</td>\n",
       "      <td>0.890654</td>\n",
       "      <td>0.782988</td>\n",
       "      <td>0.218658</td>\n",
       "      <td>0.067305</td>\n",
       "      <td>0.372350</td>\n",
       "      <td>0.108698</td>\n",
       "      <td>-0.340148</td>\n",
       "      <td>0.155742</td>\n",
       "      <td>-0.047650</td>\n",
       "      <td>-0.274069</td>\n",
       "      <td>-0.253696</td>\n",
       "      <td>1.000000</td>\n",
       "      <td>-0.690654</td>\n",
       "    </tr>\n",
       "    <tr>\n",
       "      <th>IsAlone</th>\n",
       "      <td>-0.206207</td>\n",
       "      <td>0.138553</td>\n",
       "      <td>0.306985</td>\n",
       "      <td>0.194706</td>\n",
       "      <td>-0.584186</td>\n",
       "      <td>-0.583112</td>\n",
       "      <td>-0.274079</td>\n",
       "      <td>0.062532</td>\n",
       "      <td>-0.266840</td>\n",
       "      <td>-0.049521</td>\n",
       "      <td>0.399987</td>\n",
       "      <td>-0.365054</td>\n",
       "      <td>0.031245</td>\n",
       "      <td>0.201913</td>\n",
       "      <td>0.308512</td>\n",
       "      <td>-0.690654</td>\n",
       "      <td>1.000000</td>\n",
       "    </tr>\n",
       "  </tbody>\n",
       "</table>\n",
       "</div>"
      ],
      "text/plain": [
       "              Survived    Pclass       Sex       Age     SibSp     Parch  \\\n",
       "Survived      1.000000 -0.335549 -0.541585 -0.094724 -0.034040  0.083151   \n",
       "Pclass       -0.335549  1.000000  0.127741 -0.340679  0.081656  0.016824   \n",
       "Sex          -0.541585  0.127741  1.000000  0.123741 -0.116348 -0.247508   \n",
       "Age          -0.094724 -0.340679  0.123741  1.000000 -0.267239 -0.195976   \n",
       "SibSp        -0.034040  0.081656 -0.116348 -0.267239  1.000000  0.414542   \n",
       "Parch         0.083151  0.016824 -0.247508 -0.195976  0.414542  1.000000   \n",
       "Fare          0.255290 -0.548193 -0.179958  0.088094  0.160887  0.217532   \n",
       "Embarked     -0.169718  0.164681  0.110320 -0.026133  0.068900  0.040449   \n",
       "Title_Master  0.085998  0.081547  0.159612 -0.412006  0.349434  0.267194   \n",
       "Title_Miss    0.334953 -0.007761 -0.694744 -0.307473  0.084446  0.102026   \n",
       "Title_Mr     -0.547689  0.139156  0.866888  0.237141 -0.252201 -0.335765   \n",
       "Title_Mrs     0.340870 -0.151078 -0.550071  0.178464  0.063003  0.225519   \n",
       "Title_Rare   -0.011611 -0.188273  0.075300  0.194984 -0.026055 -0.059725   \n",
       "AgeBand      -0.114969 -0.303354  0.155596  0.930825 -0.254518 -0.200341   \n",
       "Age*Pclass   -0.322618  0.378862  0.232564  0.607464 -0.239510 -0.180098   \n",
       "FamilySize    0.018277  0.064221 -0.203191 -0.280584  0.890654  0.782988   \n",
       "IsAlone      -0.206207  0.138553  0.306985  0.194706 -0.584186 -0.583112   \n",
       "\n",
       "                  Fare  Embarked  Title_Master  Title_Miss  Title_Mr  \\\n",
       "Survived      0.255290 -0.169718      0.085998    0.334953 -0.547689   \n",
       "Pclass       -0.548193  0.164681      0.081547   -0.007761  0.139156   \n",
       "Sex          -0.179958  0.110320      0.159612   -0.694744  0.866888   \n",
       "Age           0.088094 -0.026133     -0.412006   -0.307473  0.237141   \n",
       "SibSp         0.160887  0.068900      0.349434    0.084446 -0.252201   \n",
       "Parch         0.217532  0.040449      0.267194    0.102026 -0.335765   \n",
       "Fare          1.000000 -0.226311      0.011390    0.118352 -0.181692   \n",
       "Embarked     -0.226311  1.000000      0.031413   -0.096519  0.101336   \n",
       "Title_Master  0.011390  0.031413      1.000000   -0.110890 -0.255888   \n",
       "Title_Miss    0.118352 -0.096519     -0.110890    1.000000 -0.602266   \n",
       "Title_Mr     -0.181692  0.101336     -0.255888   -0.602266  1.000000   \n",
       "Title_Mrs     0.105511 -0.036499     -0.087798   -0.206644 -0.476850   \n",
       "Title_Rare    0.016645 -0.029671     -0.035374   -0.083257 -0.192123   \n",
       "AgeBand       0.080627 -0.049476     -0.371027   -0.315325  0.256970   \n",
       "Age*Pclass   -0.276558  0.078341     -0.330774   -0.303750  0.361994   \n",
       "FamilySize    0.218658  0.067305      0.372350    0.108698 -0.340148   \n",
       "IsAlone      -0.274079  0.062532     -0.266840   -0.049521  0.399987   \n",
       "\n",
       "              Title_Mrs  Title_Rare   AgeBand  Age*Pclass  FamilySize  \\\n",
       "Survived       0.340870   -0.011611 -0.114969   -0.322618    0.018277   \n",
       "Pclass        -0.151078   -0.188273 -0.303354    0.378862    0.064221   \n",
       "Sex           -0.550071    0.075300  0.155596    0.232564   -0.203191   \n",
       "Age            0.178464    0.194984  0.930825    0.607464   -0.280584   \n",
       "SibSp          0.063003   -0.026055 -0.254518   -0.239510    0.890654   \n",
       "Parch          0.225519   -0.059725 -0.200341   -0.180098    0.782988   \n",
       "Fare           0.105511    0.016645  0.080627   -0.276558    0.218658   \n",
       "Embarked      -0.036499   -0.029671 -0.049476    0.078341    0.067305   \n",
       "Title_Master  -0.087798   -0.035374 -0.371027   -0.330774    0.372350   \n",
       "Title_Miss    -0.206644   -0.083257 -0.315325   -0.303750    0.108698   \n",
       "Title_Mr      -0.476850   -0.192123  0.256970    0.361994   -0.340148   \n",
       "Title_Mrs      1.000000   -0.065919  0.143532    0.038401    0.155742   \n",
       "Title_Rare    -0.065919    1.000000  0.176388   -0.001859   -0.047650   \n",
       "AgeBand        0.143532    0.176388  1.000000    0.705213   -0.274069   \n",
       "Age*Pclass     0.038401   -0.001859  0.705213    1.000000   -0.253696   \n",
       "FamilySize     0.155742   -0.047650 -0.274069   -0.253696    1.000000   \n",
       "IsAlone       -0.365054    0.031245  0.201913    0.308512   -0.690654   \n",
       "\n",
       "               IsAlone  \n",
       "Survived     -0.206207  \n",
       "Pclass        0.138553  \n",
       "Sex           0.306985  \n",
       "Age           0.194706  \n",
       "SibSp        -0.584186  \n",
       "Parch        -0.583112  \n",
       "Fare         -0.274079  \n",
       "Embarked      0.062532  \n",
       "Title_Master -0.266840  \n",
       "Title_Miss   -0.049521  \n",
       "Title_Mr      0.399987  \n",
       "Title_Mrs    -0.365054  \n",
       "Title_Rare    0.031245  \n",
       "AgeBand       0.201913  \n",
       "Age*Pclass    0.308512  \n",
       "FamilySize   -0.690654  \n",
       "IsAlone       1.000000  "
      ]
     },
     "execution_count": 959,
     "metadata": {},
     "output_type": "execute_result"
    }
   ],
   "source": [
    "X.corr()"
   ]
  },
  {
   "cell_type": "markdown",
   "id": "def8e0bf",
   "metadata": {},
   "source": [
    "Vidimo kako je značajka FamilySize visoko korelirana s značajkama SibSp i Parch što navedene dvije značajke čini kandidatom za izbacivanje i smanjenje dimenzionalnosti skupa.  \n",
    "  \n",
    "Za sada ih nećemo izbacivati. Pokazat ćemo još filterske metode selekcije značajki.  \n",
    "  \n",
    "Prva metoda selekcije značajki je korištenje informacijske dobiti (mutual information). Funkcija mutual_info_classif svakoj značajki dodjeljuje njenu \"važnost\", a razred SelectKBest selektira k=7 najvažnijih značajki. Primjer je u nastavku."
   ]
  },
  {
   "cell_type": "code",
   "execution_count": 972,
   "id": "90968ca6",
   "metadata": {},
   "outputs": [
    {
     "data": {
      "text/plain": [
       "array(['Pclass', 'Age', 'Fare', 'Title_Mr', 'Title_Mrs', 'Age*Pclass',\n",
       "       'FamilySize'], dtype=object)"
      ]
     },
     "execution_count": 972,
     "metadata": {},
     "output_type": "execute_result"
    }
   ],
   "source": [
    "kbest = SelectKBest(mutual_info_classif, k=7)\n",
    "\n",
    "y_ = X_tmp.loc[:, 'Survived']\n",
    "X_ = X_tmp.loc[:, X_tmp.columns != 'Survived']\n",
    "\n",
    "kbest.fit(X_, y_)\n",
    "X_.columns[kbest.get_support()].values"
   ]
  },
  {
   "cell_type": "code",
   "execution_count": 969,
   "id": "560b4771",
   "metadata": {},
   "outputs": [
    {
     "name": "stdout",
     "output_type": "stream",
     "text": [
      "Točnost:  0.8077020202020202  +-  0.05387444425988824\n"
     ]
    }
   ],
   "source": [
    "columns = np.concatenate((X_.columns[kbest.get_support()].values, np.asarray(['Survived'])))\n",
    "klasificiraj(X_tmp[columns])"
   ]
  },
  {
   "cell_type": "markdown",
   "id": "646fa920",
   "metadata": {},
   "source": [
    "Odabrane su značajke 'Pclass', 'Age', 'Fare', 'Title_Mr', 'Title_Mrs', 'Age\\*Pclass','FamilySize'. Točnost korištenjem samo tih značajki je nešto niža nego ranije, ali je model jednostavniji i vrijeme treniranja je kraće. U ovom primjeru to nije toliko značajno jer je broj značajki smanjen s 15 na 7. Na realnim projektima često postoji nekoliko tisuća značajki i nekoliko milijuna zapisa te se blago smanjenje točnosti smatra opravdanom cijenom za značajno smanjenje vremena treniranja."
   ]
  },
  {
   "cell_type": "markdown",
   "id": "efe1165c",
   "metadata": {},
   "source": [
    "Razred SelectKBest kao argument prima metodu koja rangira značajke u skupu podataka. Za tu svrhu može se koristiti i bilo koja vlastito definirana metoda. Sljedeći primjer pokazuje korištenje internog rangiranja značajki algoritma ExtraTreesClassifier za selekciju značajki."
   ]
  },
  {
   "cell_type": "code",
   "execution_count": 973,
   "id": "89262b70",
   "metadata": {},
   "outputs": [
    {
     "data": {
      "text/plain": [
       "array(['Pclass', 'Age', 'Fare', 'Title_Miss', 'Title_Mr', 'Title_Mrs',\n",
       "       'FamilySize'], dtype=object)"
      ]
     },
     "execution_count": 973,
     "metadata": {},
     "output_type": "execute_result"
    }
   ],
   "source": [
    "def calc_extr_scores(X,y):\n",
    "    cls = ExtraTreesClassifier()\n",
    "    cls.fit(X,y)\n",
    "    return cls.feature_importances_\n",
    "\n",
    "kbest = SelectKBest(calc_extr_scores, k=7)\n",
    "kbest.fit(X_, y_)\n",
    "X_.columns[kbest.get_support()].values"
   ]
  },
  {
   "cell_type": "code",
   "execution_count": 974,
   "id": "0a0648c7",
   "metadata": {},
   "outputs": [
    {
     "name": "stdout",
     "output_type": "stream",
     "text": [
      "Točnost:  0.8202272727272726  +-  0.06397366814795333\n"
     ]
    }
   ],
   "source": [
    "columns = np.concatenate((X_.columns[kbest.get_support()].values, np.asarray(['Survived'])))\n",
    "klasificiraj(X_tmp[columns])"
   ]
  },
  {
   "cell_type": "markdown",
   "id": "c364efd0",
   "metadata": {},
   "source": [
    "U ovom slučaju smanjenje dimenzionalnosti dovelo je do malog povečanja točnosti. U odabranim značajkama postoji samo jedna razlika - umjesto 'Age\\*Pclass' sada imamo 'Title_Miss'."
   ]
  }
 ],
 "metadata": {
  "kernelspec": {
   "display_name": "Python 3 (ipykernel)",
   "language": "python",
   "name": "python3"
  },
  "language_info": {
   "codemirror_mode": {
    "name": "ipython",
    "version": 3
   },
   "file_extension": ".py",
   "mimetype": "text/x-python",
   "name": "python",
   "nbconvert_exporter": "python",
   "pygments_lexer": "ipython3",
   "version": "3.8.9"
  }
 },
 "nbformat": 4,
 "nbformat_minor": 5
}
